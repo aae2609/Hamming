{
 "cells": [
  {
   "cell_type": "code",
   "execution_count": 1,
   "metadata": {
    "colab": {
     "autoexec": {
      "startup": false,
      "wait_interval": 0
     }
    },
    "colab_type": "code",
    "id": "Okz3VTzXW7wn"
   },
   "outputs": [],
   "source": [
    "# !apt-get install -y -qq software-properties-common python-software-properties module-init-tools\n",
    "# !add-apt-repository -y ppa:alessandro-strada/ppa 2>&1 > /dev/null\n",
    "# !apt-get update -qq 2>&1 > /dev/null\n",
    "# !apt-get -y install -qq google-drive-ocamlfuse fuse\n",
    "# from google.colab import auth\n",
    "# auth.authenticate_user()\n",
    "# from oauth2client.client import GoogleCredentials\n",
    "# creds = GoogleCredentials.get_application_default()\n",
    "# import getpass\n",
    "# !google-drive-ocamlfuse -headless -id={creds.client_id} -secret={creds.client_secret} < /dev/null 2>&1 | grep URL\n",
    "# vcode = getpass.getpass()\n",
    "# !echo {vcode} | google-drive-ocamlfuse -headless -id={creds.client_id} -secret={creds.client_secret}"
   ]
  },
  {
   "cell_type": "code",
   "execution_count": 2,
   "metadata": {
    "colab": {
     "autoexec": {
      "startup": false,
      "wait_interval": 0
     }
    },
    "colab_type": "code",
    "id": "vtwjwqJgX1r8"
   },
   "outputs": [],
   "source": [
    "# !mkdir -p drive\n",
    "# !google-drive-ocamlfuse drive"
   ]
  },
  {
   "cell_type": "code",
   "execution_count": 3,
   "metadata": {
    "colab": {
     "autoexec": {
      "startup": false,
      "wait_interval": 0
     }
    },
    "colab_type": "code",
    "id": "tLBpsqUwW6GP"
   },
   "outputs": [
    {
     "name": "stderr",
     "output_type": "stream",
     "text": [
      "/home/anton/.local/lib/python3.6/site-packages/h5py/__init__.py:36: FutureWarning: Conversion of the second argument of issubdtype from `float` to `np.floating` is deprecated. In future, it will be treated as `np.float64 == np.dtype(float).type`.\n",
      "  from ._conv import register_converters as _register_converters\n",
      "Using TensorFlow backend.\n"
     ]
    }
   ],
   "source": [
    "import os \n",
    "import sys\n",
    "import pandas as pd\n",
    "import numpy as np\n",
    "import keras\n",
    "import matplotlib.pyplot as plt\n",
    "\n",
    "from sklearn import model_selection\n",
    "from __future__ import absolute_import\n",
    "# os.chdir(\"/content/drive/Hamming\")\n",
    "# sys.path.append(\"Hamming\")"
   ]
  },
  {
   "cell_type": "code",
   "execution_count": 4,
   "metadata": {
    "colab": {
     "autoexec": {
      "startup": false,
      "wait_interval": 0
     }
    },
    "colab_type": "code",
    "id": "WuFjNpRmX-mM"
   },
   "outputs": [],
   "source": [
    "# !pip install hyperopt\n",
    "# !pip install networkx==1.11"
   ]
  },
  {
   "cell_type": "code",
   "execution_count": 5,
   "metadata": {
    "colab": {
     "autoexec": {
      "startup": false,
      "wait_interval": 0
     }
    },
    "colab_type": "code",
    "id": "ZRwu0DFrW6Gf"
   },
   "outputs": [],
   "source": [
    "TRAIN_PATH = './dataset_files/hamming_small.txt'  # \"/content/drive/Hamming/dataset_files/hamming.txt\"\n",
    "\n",
    "COLUMN_NAMES = ['plainword', 'codeword', \n",
    "                'id_error', 'bin_error', 'defective_codeword']\n",
    "def load_data():\n",
    "    return pd.read_csv(TRAIN_PATH, sep=';', names=COLUMN_NAMES)"
   ]
  },
  {
   "cell_type": "code",
   "execution_count": 6,
   "metadata": {
    "colab": {
     "autoexec": {
      "startup": false,
      "wait_interval": 0
     }
    },
    "colab_type": "code",
    "id": "WWEgVlIiW6Gl"
   },
   "outputs": [],
   "source": [
    "def make_features():\n",
    "#     data['dec_defective_codeword'] = data['defective_codeword'][:].apply(lambda x: int(x, 2))\n",
    "\n",
    "    for j in range(len(data['codeword'][0])):\n",
    "        data['cod_' + str(j)] = data['codeword'][:].apply(lambda x: int(x[j]))\n",
    "\n",
    "    for j in range(len(data['defective_codeword'][0])):\n",
    "        data['def_' + str(j)] = data['defective_codeword'][:].apply(lambda x: int(x[j]))\n",
    "\n",
    "#     for j in range(len(data['bin_error'][0])):\n",
    "#         data['mask_' + str(j)] = data['bin_error'][:].apply(lambda x: int(x[j]))\n",
    "        \n",
    "    data['weight'] = 1\n",
    "    data.loc[data['codeword'] == data['defective_codeword'], 'weight'] = 19\n",
    "    for j in range(len(data['plainword'][0])):\n",
    "        data['pln_' + str(j)] = data['plainword'][:].apply(lambda x: int(x[j]))\n",
    "    \n",
    "#     return data"
   ]
  },
  {
   "cell_type": "code",
   "execution_count": 7,
   "metadata": {
    "colab": {
     "autoexec": {
      "startup": false,
      "wait_interval": 0
     }
    },
    "colab_type": "code",
    "id": "i_6JVcfXW6Gq"
   },
   "outputs": [],
   "source": [
    "def split_data(test_size): \n",
    "    train_data, test_data, train_labels, test_labels = \\\n",
    "        model_selection.train_test_split(data.loc[:, 'def_0':'weight'], \n",
    "                                         data.loc[:, 'cod_0':'cod_30'], # 'mask_0':'pln_25' \n",
    "                                         test_size = test_size) \n",
    "    \n",
    "    train_weight = train_data.pop('weight')\n",
    "    test_data.drop(columns=['weight'], inplace=True)\n",
    "    return np.array(train_data), np.array(test_data), np.array(train_labels), np.array(test_labels), np.array(train_weight)"
   ]
  },
  {
   "cell_type": "code",
   "execution_count": 8,
   "metadata": {
    "colab": {
     "autoexec": {
      "startup": false,
      "wait_interval": 0
     },
     "base_uri": "https://localhost:8080/",
     "height": 86
    },
    "colab_type": "code",
    "executionInfo": {
     "elapsed": 3512,
     "status": "ok",
     "timestamp": 1525608858435,
     "user": {
      "displayName": "Roman Kravtsov",
      "photoUrl": "https://lh3.googleusercontent.com/a/default-user=s128",
      "userId": "111193078234152704111"
     },
     "user_tz": -180
    },
    "id": "iVeFMadmW6Gw",
    "outputId": "6102464f-7409-4afb-e2ef-ce2b7da7e77c"
   },
   "outputs": [
    {
     "name": "stdout",
     "output_type": "stream",
     "text": [
      "(65536, 5)\n",
      "(65536, 94)\n",
      "CPU times: user 2.55 s, sys: 108 ms, total: 2.66 s\n",
      "Wall time: 2.66 s\n"
     ]
    }
   ],
   "source": [
    "%%time\n",
    "data = load_data()\n",
    "print(data.shape)\n",
    "make_features()\n",
    "print(data.shape)\n",
    "train_data, test_data, train_labels, test_labels, train_weight = split_data(test_size=0.3)"
   ]
  },
  {
   "cell_type": "code",
   "execution_count": 9,
   "metadata": {
    "colab": {
     "autoexec": {
      "startup": false,
      "wait_interval": 0
     }
    },
    "colab_type": "code",
    "id": "fKFGqPt7W6G4"
   },
   "outputs": [],
   "source": [
    "def probs_to_labels(predicted_probs):\n",
    "    return [1 if x > 0.5 else 0 for x in predicted_probs]\n",
    "def count_errors(y, y_pred):\n",
    "  count = 0\n",
    "  for i in range (0,31):\n",
    "    labelBit = y[i]\n",
    "    resultBit = y_pred[i]\n",
    "    if labelBit != resultBit:\n",
    "      count += 1\n",
    "  return count"
   ]
  },
  {
   "cell_type": "code",
   "execution_count": 10,
   "metadata": {
    "colab": {
     "autoexec": {
      "startup": false,
      "wait_interval": 0
     }
    },
    "colab_type": "code",
    "id": "tygf5wTWW6G9"
   },
   "outputs": [],
   "source": [
    "# errorStats = {'0': 0}\n",
    "# for i in range(0, y_pred.shape[0]):\n",
    "#   resultArray = probs_to_labels(y_pred[i])\n",
    "#   errorNum = count_errors(test_labels[i], resultArray)\n",
    "#   if errorStats.get(str(errorNum)) == None:\n",
    "#     errorStats[str(errorNum)] = 0\n",
    "#   errorStats[str(errorNum)] += 1\n",
    "# print(errorStats)\n",
    "def binary_accuracy(y, y_pred):\n",
    "    return sum(int(np.array_equal(a, probs_to_labels(b))) for (a,b) in zip(y, y_pred)) / y.shape[0]\n"
   ]
  },
  {
   "cell_type": "code",
   "execution_count": 39,
   "metadata": {
    "colab": {
     "autoexec": {
      "startup": false,
      "wait_interval": 0
     }
    },
    "colab_type": "code",
    "id": "p9R4dTnYW6HD"
   },
   "outputs": [],
   "source": [
    "from hyperopt import fmin, tpe, hp, STATUS_OK, Trials\n",
    "from sklearn.metrics import roc_auc_score\n",
    "import sys\n",
    "\n",
    "X = train_data\n",
    "y = train_labels\n",
    "X_val = test_data\n",
    "y_val = test_labels\n",
    "activations = ['relu', 'tanh', 'softmax', 'elu']\n",
    "space = {'choice': hp.choice('num_layers',\n",
    "                    [ {'layers':'three', },\n",
    "                    {'layers':'four',\n",
    "                      'units4': hp.choice('units4_4', [128, 256, 512, 1024]), \n",
    "                      'activation4': hp.choice('activation4_4', activations),\n",
    "                      'dropout4': 1},#hp.choice('dropout4', [.75, 1])}\n",
    "                    { 'layers': 'five', \n",
    "                      'units4': hp.choice('units5_4', [128, 256, 512, 1024]), \n",
    "                      'activation4': hp.choice('activation5_4', activations),\n",
    "                      'dropout4': 1,\n",
    "                      'units5': hp.choice('units5_5', [128, 256, 512, 1024]), \n",
    "                      'activation5': hp.choice('activation5_5', activations),\n",
    "                      'dropout5': 1\n",
    "                     }\n",
    "                    ]),\n",
    "\n",
    "            'units1': hp.choice('units1', [128, 256, 512, 1024]),\n",
    "            'units2': hp.choice('units2', [128, 256, 512, 1024]),\n",
    "            'units3': hp.choice('units3', [128, 256, 512, 1024]), \n",
    "\n",
    "            'dropout1': 1,#hp.choice('dropout1', [.75, 1]),\n",
    "            'dropout2': 1,#hp.choice('dropout2', [.75, 1]),\n",
    "            'dropout3': 1,#hp.choice('dropout3', [.75, 1]),\n",
    "         \n",
    "            'activation1': hp.choice('activation1', activations),\n",
    "            'activation2': hp.choice('activation2', activations),\n",
    "            'activation3': hp.choice('activation3', activations),\n",
    "\n",
    "            'batch_size' : hp.choice('batch_size', [32, 64, 128]),\n",
    "\n",
    "            'nb_epochs' :  hp.choice('nb_epochs', [5, 7, 10]),\n",
    "            'optimizer': hp.choice('optimizer', ['adadelta','adam','rmsprop']),\n",
    "            #'activation': hp.choice('activation', ['sigmoid', 'tanh']),\n",
    "            'last_activation': hp.choice('last_activation', ['sigmoid', 'hard_sigmoid'])\n",
    "        }"
   ]
  },
  {
   "cell_type": "code",
   "execution_count": 40,
   "metadata": {
    "colab": {
     "autoexec": {
      "startup": false,
      "wait_interval": 0
     }
    },
    "colab_type": "code",
    "id": "ZakMbuuC3Z24"
   },
   "outputs": [],
   "source": [
    "scores = []\n",
    "from keras.models import Sequential\n",
    "from keras.layers.core import Dense, Dropout, Activation\n",
    "from keras.optimizers import Adadelta, Adam, rmsprop\n",
    "import json\n"
   ]
  },
  {
   "cell_type": "code",
   "execution_count": 41,
   "metadata": {},
   "outputs": [],
   "source": [
    "from keras.callbacks import History \n",
    "history = History()"
   ]
  },
  {
   "cell_type": "code",
   "execution_count": 42,
   "metadata": {},
   "outputs": [],
   "source": [
    "early_stopping = keras.callbacks.EarlyStopping(monitor='val_loss',\n",
    "                              min_delta=0,\n",
    "                              patience=2,\n",
    "                              verbose=0, mode='auto')"
   ]
  },
  {
   "cell_type": "code",
   "execution_count": 43,
   "metadata": {},
   "outputs": [],
   "source": [
    "scores_file = 'scores_test.json'"
   ]
  },
  {
   "cell_type": "code",
   "execution_count": 44,
   "metadata": {},
   "outputs": [
    {
     "data": {
      "text/plain": [
       "(45875, 31)"
      ]
     },
     "execution_count": 44,
     "metadata": {},
     "output_type": "execute_result"
    }
   ],
   "source": [
    "X.shape"
   ]
  },
  {
   "cell_type": "code",
   "execution_count": 45,
   "metadata": {
    "colab": {
     "autoexec": {
      "startup": false,
      "wait_interval": 0
     }
    },
    "colab_type": "code",
    "id": "LJSCiZKQW6HJ"
   },
   "outputs": [],
   "source": [
    "def f_nn(params):   \n",
    "    print ('Params testing: ', params)\n",
    "    model = Sequential()\n",
    "    model.add(Dense(units=int(params['units1']), input_dim = X.shape[1])) \n",
    "    model.add(Activation(params['activation1']))\n",
    "    model.add(Dropout(params['dropout1']))\n",
    "\n",
    "    model.add(Dense(units=int(params['units2']), kernel_initializer = \"glorot_uniform\")) \n",
    "    model.add(Activation(params['activation2']))\n",
    "    model.add(Dropout(params['dropout2']))\n",
    "\n",
    "    model.add(Dense(units=int(params['units3']), kernel_initializer = \"glorot_uniform\"))\n",
    "    model.add(Activation(params['activation3']))\n",
    "    model.add(Dropout(params['dropout3']))\n",
    "\n",
    "    if params['choice']['layers'] == 'four':\n",
    "        model.add(Dense(units=int(params['choice']['units4']), kernel_initializer = \"glorot_uniform\")) \n",
    "        model.add(Activation(params['choice']['activation4']))\n",
    "        model.add(Dropout(params['choice']['dropout4']))  \n",
    "        \n",
    "    if params['choice']['layers'] == 'five':\n",
    "        model.add(Dense(units=int(params['choice']['units4']), kernel_initializer = \"glorot_uniform\")) \n",
    "        model.add(Activation(params['choice']['activation4']))\n",
    "        model.add(Dropout(params['choice']['dropout4']))  \n",
    "        model.add(Dense(units=int(params['choice']['units5']), kernel_initializer = \"glorot_uniform\")) \n",
    "        model.add(Activation(params['choice']['activation5']))\n",
    "        model.add(Dropout(params['choice']['dropout5']))\n",
    "        \n",
    "    model.add(Dense(31))\n",
    "    model.add(Activation(params['last_activation']))\n",
    "#     from keras.utils import plot_model\n",
    "#     plot_model(model, to_file='model_plot.png', show_shapes=True, show_layer_names=True)\n",
    "    model.compile(loss='binary_crossentropy', metrics = ['binary_accuracy'], optimizer=params['optimizer'])\n",
    "   \n",
    "    model.fit(X, y, \n",
    "              epochs=params['nb_epochs'],\n",
    "              batch_size=int(params['batch_size']),\n",
    "              sample_weight = train_weight,\n",
    "              callbacks=[history,\n",
    "#                          early_stopping],\n",
    "                        ],\n",
    "              verbose = 0)\n",
    "\n",
    "    pred_auc = model.predict(X_val)\n",
    "#     acc = roc_auc_score(y_val, pred_auc)\n",
    "    acc = binary_accuracy(y_val, pred_auc)\n",
    "    print('ACCURACY:', acc)\n",
    "    testing_params = params\n",
    "    testing_params['accuracy'] = acc\n",
    "    jsonResult = testing_params\n",
    "    file = open(scores_file, 'a')\n",
    "    json.dump(testing_params, file, indent = 4)\n",
    "    file.write(',\\n')\n",
    "    file.close()\n",
    "    sys.stdout.flush() \n",
    "    scores.append((acc, params))\n",
    "    return {'loss': -acc, 'status': STATUS_OK}"
   ]
  },
  {
   "cell_type": "code",
   "execution_count": 46,
   "metadata": {
    "colab": {
     "autoexec": {
      "startup": false,
      "wait_interval": 0
     },
     "base_uri": "https://localhost:8080/",
     "height": 9078
    },
    "colab_type": "code",
    "executionInfo": {
     "elapsed": 12381906,
     "status": "error",
     "timestamp": 1525621247140,
     "user": {
      "displayName": "Roman Kravtsov",
      "photoUrl": "https://lh3.googleusercontent.com/a/default-user=s128",
      "userId": "111193078234152704111"
     },
     "user_tz": -180
    },
    "id": "C6XPHQuf-slL",
    "outputId": "d86a6546-22ca-472d-f906-a9d632a0b16f"
   },
   "outputs": [
    {
     "name": "stdout",
     "output_type": "stream",
     "text": [
      "Params testing:  {'activation1': 'elu', 'activation2': 'relu', 'activation3': 'tanh', 'batch_size': 64, 'choice': {'activation4': 'relu', 'activation5': 'tanh', 'dropout4': 1, 'dropout5': 1, 'layers': 'five', 'units4': 128, 'units5': 128}, 'dropout1': 1, 'dropout2': 1, 'dropout3': 1, 'last_activation': 'sigmoid', 'nb_epochs': 5, 'optimizer': 'rmsprop', 'units1': 128, 'units2': 256, 'units3': 1024}\n",
      "ACCURACY: 0.11459234016581049\n",
      "best: \n",
      "{'activation1': 3, 'activation2': 0, 'activation3': 1, 'activation5_4': 0, 'activation5_5': 1, 'batch_size': 1, 'last_activation': 0, 'nb_epochs': 0, 'num_layers': 2, 'optimizer': 2, 'units1': 0, 'units2': 1, 'units3': 3, 'units5_4': 0, 'units5_5': 0}\n"
     ]
    }
   ],
   "source": [
    "trials = Trials()\n",
    "file = open(scores_file, 'w')\n",
    "file.write('[\\n')\n",
    "file.close()\n",
    "best = fmin(f_nn, space, algo=tpe.suggest, max_evals=1, trials=trials) ## replace max_evals back to 350\n",
    "print('best: ')\n",
    "print(best)\n",
    "file = open(scores_file, 'a')\n",
    "file.write(']\\n')\n",
    "file.close()"
   ]
  },
  {
   "cell_type": "code",
   "execution_count": 47,
   "metadata": {},
   "outputs": [
    {
     "data": {
      "image/png": "[encoded data removed]",
      "text/plain": [
       "<Figure size 432x288 with 1 Axes>"
      ]
     },
     "metadata": {},
     "output_type": "display_data"
    }
   ],
   "source": [
    "from scipy.interpolate import interp1d\n",
    "\n",
    "y = history.history['loss']\n",
    "x = np.linspace(0, len(y), num=len(y), endpoint=True)\n",
    "f = interp1d(x, y, kind='cubic')\n",
    "\n",
    "xnew = np.linspace(0, len(y), num=40, endpoint=True)\n",
    "\n",
    "plt.plot(x, y, '-', xnew, f(xnew))\n",
    "plt.legend(['losses', 'cubic'])\n",
    "plt.xlabel('Epoch')\n",
    "plt.ylabel('Loss')\n",
    "plt.show()"
   ]
  },
  {
   "cell_type": "code",
   "execution_count": 48,
   "metadata": {
    "colab": {
     "autoexec": {
      "startup": false,
      "wait_interval": 0
     }
    },
    "colab_type": "code",
    "id": "L4HUHhZKW6HS",
    "scrolled": true
   },
   "outputs": [
    {
     "name": "stdout",
     "output_type": "stream",
     "text": [
      "(0.11459234016581049, {'activation1': 'elu', 'activation2': 'relu', 'activation3': 'tanh', 'batch_size': 64, 'choice': {'activation4': 'relu', 'activation5': 'tanh', 'dropout4': 1, 'dropout5': 1, 'layers': 'five', 'units4': 128, 'units5': 128}, 'dropout1': 1, 'dropout2': 1, 'dropout3': 1, 'last_activation': 'sigmoid', 'nb_epochs': 5, 'optimizer': 'rmsprop', 'units1': 128, 'units2': 256, 'units3': 1024, 'accuracy': 0.11459234016581049})\n"
     ]
    }
   ],
   "source": [
    "print(max(scores))"
   ]
  }
 ],
 "metadata": {
  "accelerator": "GPU",
  "colab": {
   "collapsed_sections": [],
   "default_view": {},
   "name": "hyperopt_codes.ipynb",
   "provenance": [],
   "version": "0.3.2",
   "views": {}
  },
  "kernelspec": {
   "display_name": "Python 3",
   "language": "python",
   "name": "python3"
  },
  "language_info": {
   "codemirror_mode": {
    "name": "ipython",
    "version": 3
   },
   "file_extension": ".py",
   "mimetype": "text/x-python",
   "name": "python",
   "nbconvert_exporter": "python",
   "pygments_lexer": "ipython3",
   "version": "3.6.5"
  }
 },
 "nbformat": 4,
 "nbformat_minor": 1
}
