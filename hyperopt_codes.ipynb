{
 "cells": [
  {
   "cell_type": "code",
   "execution_count": 1,
   "metadata": {
    "colab": {
     "autoexec": {
      "startup": false,
      "wait_interval": 0
     }
    },
    "colab_type": "code",
    "id": "Okz3VTzXW7wn"
   },
   "outputs": [],
   "source": [
    "# !apt-get install -y -qq software-properties-common python-software-properties module-init-tools\n",
    "# !add-apt-repository -y ppa:alessandro-strada/ppa 2>&1 > /dev/null\n",
    "# !apt-get update -qq 2>&1 > /dev/null\n",
    "# !apt-get -y install -qq google-drive-ocamlfuse fuse\n",
    "# from google.colab import auth\n",
    "# auth.authenticate_user()\n",
    "# from oauth2client.client import GoogleCredentials\n",
    "# creds = GoogleCredentials.get_application_default()\n",
    "# import getpass\n",
    "# !google-drive-ocamlfuse -headless -id={creds.client_id} -secret={creds.client_secret} < /dev/null 2>&1 | grep URL\n",
    "# vcode = getpass.getpass()\n",
    "# !echo {vcode} | google-drive-ocamlfuse -headless -id={creds.client_id} -secret={creds.client_secret}"
   ]
  },
  {
   "cell_type": "code",
   "execution_count": 2,
   "metadata": {
    "colab": {
     "autoexec": {
      "startup": false,
      "wait_interval": 0
     }
    },
    "colab_type": "code",
    "id": "vtwjwqJgX1r8"
   },
   "outputs": [],
   "source": [
    "# !mkdir -p drive\n",
    "# !google-drive-ocamlfuse drive"
   ]
  },
  {
   "cell_type": "code",
   "execution_count": 3,
   "metadata": {
    "colab": {
     "autoexec": {
      "startup": false,
      "wait_interval": 0
     }
    },
    "colab_type": "code",
    "id": "tLBpsqUwW6GP"
   },
   "outputs": [
    {
     "name": "stderr",
     "output_type": "stream",
     "text": [
      "/home/anton/.local/lib/python3.6/site-packages/h5py/__init__.py:36: FutureWarning: Conversion of the second argument of issubdtype from `float` to `np.floating` is deprecated. In future, it will be treated as `np.float64 == np.dtype(float).type`.\n",
      "  from ._conv import register_converters as _register_converters\n",
      "Using TensorFlow backend.\n"
     ]
    }
   ],
   "source": [
    "import os \n",
    "import sys\n",
    "import pandas as pd\n",
    "import numpy as np\n",
    "import keras\n",
    "import matplotlib.pyplot as plt\n",
    "\n",
    "from sklearn import model_selection\n",
    "from __future__ import absolute_import\n",
    "# os.chdir(\"/content/drive/Hamming\")\n",
    "# sys.path.append(\"Hamming\")"
   ]
  },
  {
   "cell_type": "code",
   "execution_count": 4,
   "metadata": {
    "colab": {
     "autoexec": {
      "startup": false,
      "wait_interval": 0
     }
    },
    "colab_type": "code",
    "id": "WuFjNpRmX-mM"
   },
   "outputs": [],
   "source": [
    "# !pip install hyperopt\n",
    "# !pip install networkx==1.11"
   ]
  },
  {
   "cell_type": "code",
   "execution_count": 5,
   "metadata": {
    "colab": {
     "autoexec": {
      "startup": false,
      "wait_interval": 0
     }
    },
    "colab_type": "code",
    "id": "ZRwu0DFrW6Gf"
   },
   "outputs": [],
   "source": [
    "TRAIN_PATH = './dataset_files/hamming_small.txt'  # \"/content/drive/Hamming/dataset_files/hamming.txt\"\n",
    "\n",
    "COLUMN_NAMES = ['plainword', 'codeword', \n",
    "                'id_error', 'bin_error', 'defective_codeword']\n",
    "def load_data():\n",
    "    return pd.read_csv(TRAIN_PATH, sep=';', names=COLUMN_NAMES)"
   ]
  },
  {
   "cell_type": "code",
   "execution_count": 6,
   "metadata": {
    "colab": {
     "autoexec": {
      "startup": false,
      "wait_interval": 0
     }
    },
    "colab_type": "code",
    "id": "WWEgVlIiW6Gl"
   },
   "outputs": [],
   "source": [
    "def make_features():\n",
    "#     data['dec_defective_codeword'] = data['defective_codeword'][:].apply(lambda x: int(x, 2))\n",
    "\n",
    "    for j in range(len(data['codeword'][0])):\n",
    "        data['cod_' + str(j)] = data['codeword'][:].apply(lambda x: int(x[j]))\n",
    "\n",
    "    for j in range(len(data['defective_codeword'][0])):\n",
    "        data['def_' + str(j)] = data['defective_codeword'][:].apply(lambda x: int(x[j]))\n",
    "\n",
    "#     for j in range(len(data['bin_error'][0])):\n",
    "#         data['mask_' + str(j)] = data['bin_error'][:].apply(lambda x: int(x[j]))\n",
    "        \n",
    "    data['weight'] = 1\n",
    "    data.loc[data['codeword'] == data['defective_codeword'], 'weight'] = 19\n",
    "    for j in range(len(data['plainword'][0])):\n",
    "        data['pln_' + str(j)] = data['plainword'][:].apply(lambda x: int(x[j]))\n",
    "    \n",
    "#     return data"
   ]
  },
  {
   "cell_type": "code",
   "execution_count": 7,
   "metadata": {
    "colab": {
     "autoexec": {
      "startup": false,
      "wait_interval": 0
     }
    },
    "colab_type": "code",
    "id": "i_6JVcfXW6Gq"
   },
   "outputs": [],
   "source": [
    "def split_data(test_size): \n",
    "    train_data, test_data, train_labels, test_labels = \\\n",
    "        model_selection.train_test_split(data.loc[:, 'def_0':'weight'], \n",
    "                                         data.loc[:, 'cod_0':'cod_30'], # 'mask_0':'pln_25' \n",
    "                                         test_size = test_size) \n",
    "    \n",
    "    train_weight = train_data.pop('weight')\n",
    "    test_data.drop(columns=['weight'], inplace=True)\n",
    "    return np.array(train_data), np.array(test_data), np.array(train_labels), np.array(test_labels), np.array(train_weight)"
   ]
  },
  {
   "cell_type": "code",
   "execution_count": 8,
   "metadata": {
    "colab": {
     "autoexec": {
      "startup": false,
      "wait_interval": 0
     },
     "base_uri": "https://localhost:8080/",
     "height": 86
    },
    "colab_type": "code",
    "executionInfo": {
     "elapsed": 3512,
     "status": "ok",
     "timestamp": 1525608858435,
     "user": {
      "displayName": "Roman Kravtsov",
      "photoUrl": "https://lh3.googleusercontent.com/a/default-user=s128",
      "userId": "111193078234152704111"
     },
     "user_tz": -180
    },
    "id": "iVeFMadmW6Gw",
    "outputId": "6102464f-7409-4afb-e2ef-ce2b7da7e77c"
   },
   "outputs": [
    {
     "name": "stdout",
     "output_type": "stream",
     "text": [
      "(65536, 5)\n",
      "(65536, 94)\n",
      "CPU times: user 2.65 s, sys: 146 ms, total: 2.8 s\n",
      "Wall time: 2.8 s\n"
     ]
    }
   ],
   "source": [
    "%%time\n",
    "data = load_data()\n",
    "print(data.shape)\n",
    "make_features()\n",
    "print(data.shape)\n",
    "train_data, test_data, train_labels, test_labels, train_weight = split_data(test_size=0.3)"
   ]
  },
  {
   "cell_type": "code",
   "execution_count": 9,
   "metadata": {
    "colab": {
     "autoexec": {
      "startup": false,
      "wait_interval": 0
     }
    },
    "colab_type": "code",
    "id": "fKFGqPt7W6G4"
   },
   "outputs": [],
   "source": [
    "def probs_to_labels(predicted_probs):\n",
    "    return [1 if x > 0.5 else 0 for x in predicted_probs]\n",
    "def count_errors(y, y_pred):\n",
    "  count = 0\n",
    "  for i in range (0,31):\n",
    "    labelBit = y[i]\n",
    "    resultBit = y_pred[i]\n",
    "    if labelBit != resultBit:\n",
    "      count += 1\n",
    "  return count"
   ]
  },
  {
   "cell_type": "code",
   "execution_count": 10,
   "metadata": {
    "colab": {
     "autoexec": {
      "startup": false,
      "wait_interval": 0
     }
    },
    "colab_type": "code",
    "id": "tygf5wTWW6G9"
   },
   "outputs": [],
   "source": [
    "# errorStats = {'0': 0}\n",
    "# for i in range(0, y_pred.shape[0]):\n",
    "#   resultArray = probs_to_labels(y_pred[i])\n",
    "#   errorNum = count_errors(test_labels[i], resultArray)\n",
    "#   if errorStats.get(str(errorNum)) == None:\n",
    "#     errorStats[str(errorNum)] = 0\n",
    "#   errorStats[str(errorNum)] += 1\n",
    "# print(errorStats)\n",
    "def binary_accuracy(y, y_pred):\n",
    "    return sum(int(np.array_equal(a, probs_to_labels(b))) for (a,b) in zip(y, y_pred)) / y.shape[0]\n"
   ]
  },
  {
   "cell_type": "code",
   "execution_count": 28,
   "metadata": {
    "colab": {
     "autoexec": {
      "startup": false,
      "wait_interval": 0
     }
    },
    "colab_type": "code",
    "id": "p9R4dTnYW6HD"
   },
   "outputs": [],
   "source": [
    "from hyperopt import fmin, tpe, hp, STATUS_OK, Trials\n",
    "from sklearn.metrics import roc_auc_score\n",
    "import sys\n",
    "\n",
    "X = train_data\n",
    "y = train_labels\n",
    "X_val = test_data\n",
    "y_val = test_labels"
   ]
  },
  {
   "cell_type": "code",
   "execution_count": 29,
   "metadata": {
    "colab": {
     "autoexec": {
      "startup": false,
      "wait_interval": 0
     }
    },
    "colab_type": "code",
    "id": "ZakMbuuC3Z24"
   },
   "outputs": [],
   "source": [
    "scores = []\n",
    "from keras.models import Sequential\n",
    "from keras.layers.core import Dense, Dropout, Activation\n",
    "from keras.optimizers import Adadelta, Adam, rmsprop\n",
    "import json\n"
   ]
  },
  {
   "cell_type": "code",
   "execution_count": 30,
   "metadata": {},
   "outputs": [],
   "source": [
    "from keras.callbacks import History \n",
    "history = History()"
   ]
  },
  {
   "cell_type": "code",
   "execution_count": 31,
   "metadata": {},
   "outputs": [],
   "source": [
    "early_stopping = keras.callbacks.EarlyStopping(monitor='val_loss',\n",
    "                              min_delta=0,\n",
    "                              patience=2,\n",
    "                              verbose=0, mode='auto')"
   ]
  },
  {
   "cell_type": "code",
   "execution_count": 32,
   "metadata": {},
   "outputs": [],
   "source": [
    "scores_file = 'scores_test.json'"
   ]
  },
  {
   "cell_type": "code",
   "execution_count": 33,
   "metadata": {},
   "outputs": [
    {
     "data": {
      "text/plain": [
       "(45875, 31)"
      ]
     },
     "execution_count": 33,
     "metadata": {},
     "output_type": "execute_result"
    }
   ],
   "source": [
    "X.shape"
   ]
  },
  {
   "cell_type": "code",
   "execution_count": 34,
   "metadata": {},
   "outputs": [],
   "source": [
    "from random import choice"
   ]
  },
  {
   "cell_type": "code",
   "execution_count": 35,
   "metadata": {},
   "outputs": [],
   "source": [
    "def make_space():\n",
    "    activations = ['relu', 'tanh', 'softmax', 'elu']\n",
    "    units = [128, 256, 512, 1024]\n",
    "    \n",
    "    space = {'layers': choice([3, 4, 5, 6, 7]),  # not hp.choice!\n",
    "         \n",
    "         'units1': hp.choice('units1', units),\n",
    "         'units2': hp.choice('units2', units),\n",
    "\n",
    "         'activation1': hp.choice('activation1', activations),\n",
    "         'activation2': hp.choice('activation2', activations),\n",
    "\n",
    "         'batch_size' : hp.choice('batch_size', [32, 64, 128]),\n",
    "\n",
    "         'nb_epochs' :  hp.choice('nb_epochs', [5, 7, 10]),\n",
    "         'optimizer': hp.choice('optimizer', ['adadelta','adam','rmsprop']),\n",
    "        #'activation': hp.choice('activation', ['sigmoid', 'tanh']),\n",
    "         'last_activation': 'sigmoid' #hp.choice('last_activation', ['sigmoid', 'hard_sigmoid'])\n",
    "    }\n",
    "    for layer_idx in range(3, space['layers']):\n",
    "        u = 'units' + str(layer_idx)\n",
    "        a = 'activation' + str(layer_idx)\n",
    "        space[u] = hp.choice(u, units)\n",
    "        space[a] = hp.choice(a, activations)  \n",
    "        \n",
    "    return space"
   ]
  },
  {
   "cell_type": "code",
   "execution_count": 36,
   "metadata": {},
   "outputs": [],
   "source": [
    "space = make_space()"
   ]
  },
  {
   "cell_type": "code",
   "execution_count": 37,
   "metadata": {
    "colab": {
     "autoexec": {
      "startup": false,
      "wait_interval": 0
     }
    },
    "colab_type": "code",
    "id": "LJSCiZKQW6HJ"
   },
   "outputs": [],
   "source": [
    "def f_nn(params):   \n",
    "    print ('Params testing: ', params)\n",
    "    model = Sequential()\n",
    "    model.add(Dense(units=int(params['units1']), input_dim = X.shape[1])) \n",
    "    model.add(Activation(params['activation1']))\n",
    "#     model.add(Dropout(params['dropout1']))\n",
    "    model.add(Dense(units=int(params['units2']), kernel_initializer = \"glorot_uniform\")) \n",
    "    model.add(Activation(params['activation2']))\n",
    "\n",
    "    for layer_idx in range(3, params['layers']):\n",
    "        u = 'units' + str(layer_idx)\n",
    "        a = 'activation' + str(layer_idx)\n",
    "\n",
    "        model.add(Dense(units=params[u], kernel_initializer = \"glorot_uniform\"))\n",
    "        model.add(Activation(params[a]))\n",
    "       \n",
    "    model.add(Dense(31))\n",
    "    model.add(Activation(params['last_activation']))\n",
    "#     from keras.utils import plot_model\n",
    "#     plot_model(model, to_file='model_plot.png', show_shapes=True, show_layer_names=True)\n",
    "    model.compile(loss='binary_crossentropy', metrics = ['binary_accuracy'], optimizer=params['optimizer'])\n",
    "   \n",
    "    model.fit(X, y, \n",
    "              epochs=params['nb_epochs'],\n",
    "              batch_size=int(params['batch_size']),\n",
    "              sample_weight = train_weight,\n",
    "              callbacks=[history,\n",
    "#                          early_stopping],\n",
    "                        ],\n",
    "              verbose = 0)\n",
    "\n",
    "    pred_auc = model.predict(X_val)\n",
    "#     acc = roc_auc_score(y_val, pred_auc)\n",
    "    acc = binary_accuracy(y_val, pred_auc)\n",
    "    print('ACCURACY:', acc)\n",
    "    testing_params = params\n",
    "    testing_params['accuracy'] = acc\n",
    "    jsonResult = testing_params\n",
    "    file = open(scores_file, 'a')\n",
    "    json.dump(testing_params, file, indent = 4)\n",
    "    file.write(',\\n')\n",
    "    file.close()\n",
    "    sys.stdout.flush() \n",
    "    scores.append((acc, params))\n",
    "    return {'loss': -acc, 'status': STATUS_OK}"
   ]
  },
  {
   "cell_type": "code",
   "execution_count": 38,
   "metadata": {
    "colab": {
     "autoexec": {
      "startup": false,
      "wait_interval": 0
     },
     "base_uri": "https://localhost:8080/",
     "height": 9078
    },
    "colab_type": "code",
    "executionInfo": {
     "elapsed": 12381906,
     "status": "error",
     "timestamp": 1525621247140,
     "user": {
      "displayName": "Roman Kravtsov",
      "photoUrl": "https://lh3.googleusercontent.com/a/default-user=s128",
      "userId": "111193078234152704111"
     },
     "user_tz": -180
    },
    "id": "C6XPHQuf-slL",
    "outputId": "d86a6546-22ca-472d-f906-a9d632a0b16f",
    "scrolled": false
   },
   "outputs": [
    {
     "name": "stdout",
     "output_type": "stream",
     "text": [
      "Params testing:  {'activation1': 'relu', 'activation2': 'relu', 'activation3': 'tanh', 'activation4': 'elu', 'activation5': 'tanh', 'activation6': 'relu', 'batch_size': 32, 'last_activation': 'sigmoid', 'layers': 7, 'nb_epochs': 5, 'optimizer': 'adadelta', 'units1': 256, 'units2': 128, 'units3': 128, 'units4': 256, 'units5': 256, 'units6': 512}\n",
      "ACCURACY: 0.12252682976450842\n",
      "best: \n",
      "{'activation1': 0, 'activation2': 0, 'activation3': 1, 'activation4': 3, 'activation5': 1, 'activation6': 0, 'batch_size': 0, 'nb_epochs': 0, 'optimizer': 0, 'units1': 1, 'units2': 0, 'units3': 0, 'units4': 1, 'units5': 1, 'units6': 2}\n"
     ]
    }
   ],
   "source": [
    "trials = Trials()\n",
    "file = open(scores_file, 'w')\n",
    "file.write('[\\n')\n",
    "file.close()\n",
    "best = fmin(f_nn, space, algo=tpe.suggest, max_evals=1, trials=trials) ## replace max_evals back to 350\n",
    "print('best: ')\n",
    "print(best)\n",
    "file = open(scores_file, 'a')\n",
    "file.write(']\\n')\n",
    "file.close()"
   ]
  },
  {
   "cell_type": "code",
   "execution_count": 40,
   "metadata": {},
   "outputs": [
    {
     "data": {
      "image/png": "[encoded data removed]",
      "text/plain": [
       "<Figure size 432x288 with 1 Axes>"
      ]
     },
     "metadata": {},
     "output_type": "display_data"
    }
   ],
   "source": [
    "from scipy.interpolate import interp1d\n",
    "\n",
    "losses = history.history['loss']\n",
    "epochs = np.linspace(0, len(losses), num=len(losses), endpoint=True)\n",
    "\n",
    "xnew = np.linspace(0, len(losses), num=40, endpoint=True)\n",
    "f = interp1d(epochs, losses, kind='cubic')\n",
    "\n",
    "plt.plot(epochs, losses, '-', xnew, f(xnew))\n",
    "plt.legend(['losses', 'cubic'])\n",
    "plt.xlabel('Epoch')\n",
    "plt.ylabel('Loss')\n",
    "plt.show()"
   ]
  },
  {
   "cell_type": "code",
   "execution_count": 41,
   "metadata": {
    "colab": {
     "autoexec": {
      "startup": false,
      "wait_interval": 0
     }
    },
    "colab_type": "code",
    "id": "L4HUHhZKW6HS",
    "scrolled": true
   },
   "outputs": [
    {
     "name": "stdout",
     "output_type": "stream",
     "text": [
      "(0.12252682976450842, {'activation1': 'relu', 'activation2': 'relu', 'activation3': 'tanh', 'activation4': 'elu', 'activation5': 'tanh', 'activation6': 'relu', 'batch_size': 32, 'last_activation': 'sigmoid', 'layers': 7, 'nb_epochs': 5, 'optimizer': 'adadelta', 'units1': 256, 'units2': 128, 'units3': 128, 'units4': 256, 'units5': 256, 'units6': 512, 'accuracy': 0.12252682976450842})\n"
     ]
    }
   ],
   "source": [
    "print(max(scores))"
   ]
  },
  {
   "cell_type": "code",
   "execution_count": null,
   "metadata": {},
   "outputs": [],
   "source": []
  }
 ],
 "metadata": {
  "accelerator": "GPU",
  "colab": {
   "collapsed_sections": [],
   "default_view": {},
   "name": "hyperopt_codes.ipynb",
   "provenance": [],
   "version": "0.3.2",
   "views": {}
  },
  "kernelspec": {
   "display_name": "Python 3",
   "language": "python",
   "name": "python3"
  },
  "language_info": {
   "codemirror_mode": {
    "name": "ipython",
    "version": 3
   },
   "file_extension": ".py",
   "mimetype": "text/x-python",
   "name": "python",
   "nbconvert_exporter": "python",
   "pygments_lexer": "ipython3",
   "version": "3.6.5"
  }
 },
 "nbformat": 4,
 "nbformat_minor": 1
}
