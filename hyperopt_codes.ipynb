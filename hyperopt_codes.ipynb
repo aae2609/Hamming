{
 "cells": [
  {
   "cell_type": "code",
   "execution_count": 1,
   "metadata": {
    "colab": {
     "autoexec": {
      "startup": false,
      "wait_interval": 0
     }
    },
    "colab_type": "code",
    "id": "Okz3VTzXW7wn"
   },
   "outputs": [],
   "source": [
    "# !apt-get install -y -qq software-properties-common python-software-properties module-init-tools\n",
    "# !add-apt-repository -y ppa:alessandro-strada/ppa 2>&1 > /dev/null\n",
    "# !apt-get update -qq 2>&1 > /dev/null\n",
    "# !apt-get -y install -qq google-drive-ocamlfuse fuse\n",
    "# from google.colab import auth\n",
    "# auth.authenticate_user()\n",
    "# from oauth2client.client import GoogleCredentials\n",
    "# creds = GoogleCredentials.get_application_default()\n",
    "# import getpass\n",
    "# !google-drive-ocamlfuse -headless -id={creds.client_id} -secret={creds.client_secret} < /dev/null 2>&1 | grep URL\n",
    "# vcode = getpass.getpass()\n",
    "# !echo {vcode} | google-drive-ocamlfuse -headless -id={creds.client_id} -secret={creds.client_secret}"
   ]
  },
  {
   "cell_type": "code",
   "execution_count": 2,
   "metadata": {
    "colab": {
     "autoexec": {
      "startup": false,
      "wait_interval": 0
     }
    },
    "colab_type": "code",
    "id": "vtwjwqJgX1r8"
   },
   "outputs": [],
   "source": [
    "# !mkdir -p drive\n",
    "# !google-drive-ocamlfuse drive"
   ]
  },
  {
   "cell_type": "code",
   "execution_count": 3,
   "metadata": {
    "colab": {
     "autoexec": {
      "startup": false,
      "wait_interval": 0
     }
    },
    "colab_type": "code",
    "id": "tLBpsqUwW6GP"
   },
   "outputs": [
    {
     "name": "stderr",
     "output_type": "stream",
     "text": [
      "/home/anton/.local/lib/python3.6/site-packages/h5py/__init__.py:36: FutureWarning: Conversion of the second argument of issubdtype from `float` to `np.floating` is deprecated. In future, it will be treated as `np.float64 == np.dtype(float).type`.\n",
      "  from ._conv import register_converters as _register_converters\n",
      "Using TensorFlow backend.\n"
     ]
    }
   ],
   "source": [
    "import os \n",
    "import sys\n",
    "import pandas as pd\n",
    "import numpy as np\n",
    "import keras\n",
    "import matplotlib.pyplot as plt\n",
    "\n",
    "from sklearn import model_selection\n",
    "from __future__ import absolute_import\n",
    "# os.chdir(\"/content/drive/Hamming\")\n",
    "# sys.path.append(\"Hamming\")"
   ]
  },
  {
   "cell_type": "code",
   "execution_count": 4,
   "metadata": {
    "colab": {
     "autoexec": {
      "startup": false,
      "wait_interval": 0
     }
    },
    "colab_type": "code",
    "id": "WuFjNpRmX-mM"
   },
   "outputs": [],
   "source": [
    "# !pip install hyperopt\n",
    "# !pip install networkx==1.11"
   ]
  },
  {
   "cell_type": "code",
   "execution_count": 5,
   "metadata": {
    "colab": {
     "autoexec": {
      "startup": false,
      "wait_interval": 0
     }
    },
    "colab_type": "code",
    "id": "ZRwu0DFrW6Gf"
   },
   "outputs": [],
   "source": [
    "TRAIN_PATH = './dataset_files/hamming_small.txt'  # \"/content/drive/Hamming/dataset_files/hamming.txt\"\n",
    "\n",
    "COLUMN_NAMES = ['plainword', 'codeword', \n",
    "                'id_error', 'bin_error', 'defective_codeword']\n",
    "def load_data():\n",
    "    return pd.read_csv(TRAIN_PATH, sep=';', names=COLUMN_NAMES)"
   ]
  },
  {
   "cell_type": "code",
   "execution_count": 6,
   "metadata": {
    "colab": {
     "autoexec": {
      "startup": false,
      "wait_interval": 0
     }
    },
    "colab_type": "code",
    "id": "WWEgVlIiW6Gl"
   },
   "outputs": [],
   "source": [
    "def make_features():\n",
    "#     data['dec_defective_codeword'] = data['defective_codeword'][:].apply(lambda x: int(x, 2))\n",
    "\n",
    "    for j in range(len(data['codeword'][0])):\n",
    "        data['cod_' + str(j)] = data['codeword'][:].apply(lambda x: int(x[j]))\n",
    "\n",
    "    for j in range(len(data['defective_codeword'][0])):\n",
    "        data['def_' + str(j)] = data['defective_codeword'][:].apply(lambda x: int(x[j]))\n",
    "\n",
    "#     for j in range(len(data['bin_error'][0])):\n",
    "#         data['mask_' + str(j)] = data['bin_error'][:].apply(lambda x: int(x[j]))\n",
    "        \n",
    "    data['weight'] = 1\n",
    "    data.loc[data['codeword'] == data['defective_codeword'], 'weight'] = 19\n",
    "    for j in range(len(data['plainword'][0])):\n",
    "        data['pln_' + str(j)] = data['plainword'][:].apply(lambda x: int(x[j]))\n",
    "    \n",
    "#     return data"
   ]
  },
  {
   "cell_type": "code",
   "execution_count": 7,
   "metadata": {
    "colab": {
     "autoexec": {
      "startup": false,
      "wait_interval": 0
     }
    },
    "colab_type": "code",
    "id": "i_6JVcfXW6Gq"
   },
   "outputs": [],
   "source": [
    "def split_data(test_size): \n",
    "    train_data, test_data, train_labels, test_labels = \\\n",
    "        model_selection.train_test_split(data.loc[:, 'def_0':'weight'], \n",
    "                                         data.loc[:, 'cod_0':'cod_30'], # 'mask_0':'pln_25' \n",
    "                                         test_size = test_size) \n",
    "    \n",
    "    train_weight = train_data.pop('weight')\n",
    "    test_data.drop(columns=['weight'], inplace=True)\n",
    "    return np.array(train_data), np.array(test_data), np.array(train_labels), np.array(test_labels), np.array(train_weight)"
   ]
  },
  {
   "cell_type": "code",
   "execution_count": 8,
   "metadata": {
    "colab": {
     "autoexec": {
      "startup": false,
      "wait_interval": 0
     },
     "base_uri": "https://localhost:8080/",
     "height": 86
    },
    "colab_type": "code",
    "executionInfo": {
     "elapsed": 3512,
     "status": "ok",
     "timestamp": 1525608858435,
     "user": {
      "displayName": "Roman Kravtsov",
      "photoUrl": "https://lh3.googleusercontent.com/a/default-user=s128",
      "userId": "111193078234152704111"
     },
     "user_tz": -180
    },
    "id": "iVeFMadmW6Gw",
    "outputId": "6102464f-7409-4afb-e2ef-ce2b7da7e77c"
   },
   "outputs": [
    {
     "name": "stdout",
     "output_type": "stream",
     "text": [
      "(65536, 5)\n",
      "(65536, 94)\n",
      "CPU times: user 2.56 s, sys: 85.7 ms, total: 2.65 s\n",
      "Wall time: 2.66 s\n"
     ]
    }
   ],
   "source": [
    "%%time\n",
    "data = load_data()\n",
    "print(data.shape)\n",
    "make_features()\n",
    "print(data.shape)"
   ]
  },
  {
   "cell_type": "code",
   "execution_count": 9,
   "metadata": {
    "colab": {
     "autoexec": {
      "startup": false,
      "wait_interval": 0
     },
     "base_uri": "https://localhost:8080/",
     "height": 86
    },
    "colab_type": "code",
    "executionInfo": {
     "elapsed": 3512,
     "status": "ok",
     "timestamp": 1525608858435,
     "user": {
      "displayName": "Roman Kravtsov",
      "photoUrl": "https://lh3.googleusercontent.com/a/default-user=s128",
      "userId": "111193078234152704111"
     },
     "user_tz": -180
    },
    "id": "iVeFMadmW6Gw",
    "outputId": "6102464f-7409-4afb-e2ef-ce2b7da7e77c"
   },
   "outputs": [],
   "source": [
    "train_data, test_data, train_labels, test_labels, train_weight = split_data(test_size=0.3)"
   ]
  },
  {
   "cell_type": "code",
   "execution_count": 10,
   "metadata": {
    "colab": {
     "autoexec": {
      "startup": false,
      "wait_interval": 0
     }
    },
    "colab_type": "code",
    "id": "fKFGqPt7W6G4"
   },
   "outputs": [],
   "source": [
    "def probs_to_labels(predicted_probs):\n",
    "    return [1 if x > 0.5 else 0 for x in predicted_probs]\n",
    "def count_errors(y, y_pred):\n",
    "  count = 0\n",
    "  for i in range (0,31):\n",
    "    labelBit = y[i]\n",
    "    resultBit = y_pred[i]\n",
    "    if labelBit != resultBit:\n",
    "      count += 1\n",
    "  return count"
   ]
  },
  {
   "cell_type": "code",
   "execution_count": 11,
   "metadata": {
    "colab": {
     "autoexec": {
      "startup": false,
      "wait_interval": 0
     }
    },
    "colab_type": "code",
    "id": "tygf5wTWW6G9"
   },
   "outputs": [],
   "source": [
    "# errorStats = {'0': 0}\n",
    "# for i in range(0, y_pred.shape[0]):\n",
    "#   resultArray = probs_to_labels(y_pred[i])\n",
    "#   errorNum = count_errors(test_labels[i], resultArray)\n",
    "#   if errorStats.get(str(errorNum)) == None:\n",
    "#     errorStats[str(errorNum)] = 0\n",
    "#   errorStats[str(errorNum)] += 1\n",
    "# print(errorStats)"
   ]
  },
  {
   "cell_type": "code",
   "execution_count": 12,
   "metadata": {
    "colab": {
     "autoexec": {
      "startup": false,
      "wait_interval": 0
     }
    },
    "colab_type": "code",
    "id": "tygf5wTWW6G9"
   },
   "outputs": [],
   "source": [
    "def binary_accuracy(y, y_pred):\n",
    "    return sum(int(np.array_equal(a, probs_to_labels(b))) for (a,b) in zip(y, y_pred)) / y.shape[0]"
   ]
  },
  {
   "cell_type": "code",
   "execution_count": 13,
   "metadata": {
    "colab": {
     "autoexec": {
      "startup": false,
      "wait_interval": 0
     }
    },
    "colab_type": "code",
    "id": "p9R4dTnYW6HD"
   },
   "outputs": [],
   "source": [
    "from hyperopt import fmin, tpe, hp, STATUS_OK, Trials\n",
    "from sklearn.metrics import roc_auc_score\n",
    "import sys"
   ]
  },
  {
   "cell_type": "code",
   "execution_count": 14,
   "metadata": {
    "colab": {
     "autoexec": {
      "startup": false,
      "wait_interval": 0
     }
    },
    "colab_type": "code",
    "id": "p9R4dTnYW6HD"
   },
   "outputs": [],
   "source": [
    "X = train_data\n",
    "y = train_labels\n",
    "X_val = test_data\n",
    "y_val = test_labels"
   ]
  },
  {
   "cell_type": "code",
   "execution_count": 15,
   "metadata": {
    "colab": {
     "autoexec": {
      "startup": false,
      "wait_interval": 0
     }
    },
    "colab_type": "code",
    "id": "ZakMbuuC3Z24"
   },
   "outputs": [],
   "source": [
    "scores = []\n",
    "from keras.models import Sequential\n",
    "from keras.layers.core import Dense, Dropout, Activation\n",
    "from keras.optimizers import Adadelta, Adam, rmsprop\n",
    "import json\n"
   ]
  },
  {
   "cell_type": "code",
   "execution_count": 16,
   "metadata": {},
   "outputs": [],
   "source": [
    "from keras.callbacks import History \n",
    "history = History()"
   ]
  },
  {
   "cell_type": "code",
   "execution_count": 43,
   "metadata": {},
   "outputs": [],
   "source": [
    "early_stopping = keras.callbacks.EarlyStopping(monitor='loss',\n",
    "                              min_delta=0,\n",
    "                              patience=2,\n",
    "                              verbose=0, mode='auto')"
   ]
  },
  {
   "cell_type": "code",
   "execution_count": 44,
   "metadata": {},
   "outputs": [],
   "source": [
    "scores_file = 'scores_test.json'"
   ]
  },
  {
   "cell_type": "code",
   "execution_count": 45,
   "metadata": {},
   "outputs": [
    {
     "data": {
      "text/plain": [
       "(45875, 31)"
      ]
     },
     "execution_count": 45,
     "metadata": {},
     "output_type": "execute_result"
    }
   ],
   "source": [
    "X.shape"
   ]
  },
  {
   "cell_type": "code",
   "execution_count": 46,
   "metadata": {},
   "outputs": [],
   "source": [
    "from random import choice"
   ]
  },
  {
   "cell_type": "code",
   "execution_count": 67,
   "metadata": {},
   "outputs": [],
   "source": [
    "def make_space():\n",
    "    activations = ['relu', 'tanh', 'softmax', 'elu']\n",
    "    units = [128, 256, 512, 1024]\n",
    "    \n",
    "    space = {'layers': choice([7 ]), #3, 4, 5, 6, 7]),  # not hp.choice!\n",
    "         \n",
    "         'units1': hp.choice('units1', units),\n",
    "         'units2': hp.choice('units2', units),\n",
    "\n",
    "         'activation1': hp.choice('activation1', activations),\n",
    "         'activation2': hp.choice('activation2', activations),\n",
    "\n",
    "         'batch_size' : hp.choice('batch_size', [32, 64, 128]),\n",
    "\n",
    "         'nb_epochs' :  hp.choice('nb_epochs', [25 ]), #, 7, 10]),\n",
    "         'optimizer': hp.choice('optimizer', ['adadelta','adam','rmsprop']),\n",
    "        #'activation': hp.choice('activation', ['sigmoid', 'tanh']),\n",
    "         'last_activation': 'sigmoid' #hp.choice('last_activation', ['sigmoid', 'hard_sigmoid'])\n",
    "    }\n",
    "    for layer_idx in range(3, space['layers']):\n",
    "        u = 'units' + str(layer_idx)\n",
    "        a = 'activation' + str(layer_idx)\n",
    "        space[u] = hp.choice(u, units)\n",
    "        space[a] = hp.choice(a, activations)  \n",
    "        \n",
    "    return space"
   ]
  },
  {
   "cell_type": "code",
   "execution_count": 68,
   "metadata": {},
   "outputs": [],
   "source": [
    "space = make_space()"
   ]
  },
  {
   "cell_type": "code",
   "execution_count": 69,
   "metadata": {},
   "outputs": [],
   "source": [
    "import keras.backend as K "
   ]
  },
  {
   "cell_type": "code",
   "execution_count": 70,
   "metadata": {},
   "outputs": [],
   "source": [
    "def binary_metrics(y_true, y_pred):\n",
    "    print('-'*20)\n",
    "    print(type(y_true))\n",
    "    print(y_true)\n",
    "    print(K.shape(y_true))\n",
    "    print('-'*20)\n",
    "\n",
    "    return K.sum(K.equal(y_true, K.round(y_pred)), axis=-1)"
   ]
  },
  {
   "cell_type": "code",
   "execution_count": 71,
   "metadata": {},
   "outputs": [],
   "source": [
    "def binary_metrics(y_true, y_pred): \n",
    "    print('-'*20)\n",
    "    print(type(y_true))\n",
    "    print(y_true)\n",
    "    print(K.shape(y_true))\n",
    "    print('-'*20)\n",
    "    \n",
    "    \n",
    "    y_true = K.eval(y_true)\n",
    "    y_pred = K.eval(y_pred)\n",
    "    \n",
    "    def probs_to_labels(predicted_probs):\n",
    "        return [int(x > 0.5) for x in predicted_probs]\n",
    "    ptl = np.vectorize(probs_to_labels)\n",
    "    \n",
    "    y_pred = plt(y_pred)\n",
    "    \n",
    "    metric = K.sum(int(np.array_equal(a, b)) for (a, b) in zip(y_true, y_pred)) / y_true.shape[0]\n",
    "    return K.constant(metric)"
   ]
  },
  {
   "cell_type": "code",
   "execution_count": 72,
   "metadata": {},
   "outputs": [],
   "source": [
    "def create_model(params):\n",
    "    model = Sequential()\n",
    "    model.add(Dense(units=int(params['units1']), input_dim = X.shape[1])) \n",
    "    model.add(Activation(params['activation1']))\n",
    "#     model.add(Dropout(params['dropout1']))\n",
    "    for layer_idx in range(2, params['layers']):\n",
    "        u = 'units' + str(layer_idx)\n",
    "        a = 'activation' + str(layer_idx)\n",
    "\n",
    "        model.add(Dense(units=params[u], kernel_initializer = \"glorot_uniform\"))\n",
    "        model.add(Activation(params[a]))\n",
    "       \n",
    "    model.add(Dense(31))\n",
    "    model.add(Activation(params['last_activation']))\n",
    "#     from keras.utils import plot_model\n",
    "#     plot_model(model, to_file='model_plot.png', show_shapes=True, show_layer_names=True)\n",
    "\n",
    "    model.compile(loss='binary_crossentropy', \n",
    "                  metrics=['binary_accuracy'], \n",
    "#                   weighted_metrics=[binary_metrics], \n",
    "                  optimizer=params['optimizer'])\n",
    "\n",
    "    return model"
   ]
  },
  {
   "cell_type": "code",
   "execution_count": 73,
   "metadata": {},
   "outputs": [],
   "source": [
    "def train_and_evaluate__model(model, params):\n",
    "    model.fit(X, y, \n",
    "              epochs=params['nb_epochs'],\n",
    "              batch_size=int(params['batch_size']),\n",
    "              sample_weight = train_weight,\n",
    "              callbacks=[history,\n",
    "                         early_stopping,\n",
    "                        ],\n",
    "              verbose = 0)\n",
    "\n",
    "    pred_auc = model.predict(X_val)\n",
    "    return pred_auc"
   ]
  },
  {
   "cell_type": "code",
   "execution_count": 74,
   "metadata": {
    "colab": {
     "autoexec": {
      "startup": false,
      "wait_interval": 0
     }
    },
    "colab_type": "code",
    "id": "LJSCiZKQW6HJ"
   },
   "outputs": [],
   "source": [
    "def f_nn(params):   \n",
    "    print ('Params testing: ', params)\n",
    "    \n",
    "    model = create_model(params)\n",
    "       \n",
    "    pred_auc = train_and_evaluate__model(model, params)\n",
    "        \n",
    "    #     acc = roc_auc_score(y_val, pred_auc)\n",
    "    acc = binary_accuracy(y_val, pred_auc)\n",
    "    print('ACCURACY:', acc)\n",
    "    testing_params = params\n",
    "    testing_params['accuracy'] = acc\n",
    "    jsonResult = testing_params\n",
    "    file = open(scores_file, 'a')\n",
    "    json.dump(testing_params, file, indent = 4)\n",
    "    file.write(',\\n')\n",
    "    file.close()\n",
    "    sys.stdout.flush() \n",
    "    scores.append((acc, params))\n",
    "    return {'loss': -acc, 'status': STATUS_OK}"
   ]
  },
  {
   "cell_type": "code",
   "execution_count": 75,
   "metadata": {
    "colab": {
     "autoexec": {
      "startup": false,
      "wait_interval": 0
     },
     "base_uri": "https://localhost:8080/",
     "height": 9078
    },
    "colab_type": "code",
    "executionInfo": {
     "elapsed": 12381906,
     "status": "error",
     "timestamp": 1525621247140,
     "user": {
      "displayName": "Roman Kravtsov",
      "photoUrl": "https://lh3.googleusercontent.com/a/default-user=s128",
      "userId": "111193078234152704111"
     },
     "user_tz": -180
    },
    "id": "C6XPHQuf-slL",
    "outputId": "d86a6546-22ca-472d-f906-a9d632a0b16f",
    "scrolled": true
   },
   "outputs": [
    {
     "name": "stdout",
     "output_type": "stream",
     "text": [
      "Params testing:  {'activation1': 'tanh', 'activation2': 'relu', 'activation3': 'relu', 'activation4': 'tanh', 'activation5': 'elu', 'activation6': 'elu', 'batch_size': 32, 'last_activation': 'sigmoid', 'layers': 7, 'nb_epochs': 25, 'optimizer': 'adadelta', 'units1': 128, 'units2': 256, 'units3': 1024, 'units4': 256, 'units5': 256, 'units6': 1024}\n",
      "ACCURACY: 0.6034789685163522\n",
      "best: \n",
      "{'activation1': 1, 'activation2': 0, 'activation3': 0, 'activation4': 1, 'activation5': 3, 'activation6': 3, 'batch_size': 0, 'nb_epochs': 0, 'optimizer': 0, 'units1': 0, 'units2': 1, 'units3': 3, 'units4': 1, 'units5': 1, 'units6': 3}\n"
     ]
    }
   ],
   "source": [
    "trials = Trials()\n",
    "file = open(scores_file, 'w')\n",
    "file.write('[\\n')\n",
    "file.close()\n",
    "best = fmin(f_nn, space, algo=tpe.suggest, max_evals=1, trials=trials) ## replace max_evals back to 350\n",
    "print('best: ')\n",
    "print(best)\n",
    "file = open(scores_file, 'a')\n",
    "file.write(']\\n')\n",
    "file.close()"
   ]
  },
  {
   "cell_type": "code",
   "execution_count": 76,
   "metadata": {
    "scrolled": true
   },
   "outputs": [
    {
     "data": {
      "text/plain": [
       "{'loss': [0.2565906487989166,\n",
       "  0.15275710067209822,\n",
       "  0.1359304219604513,\n",
       "  0.1213886003203548,\n",
       "  0.10737223278988935,\n",
       "  0.09201393942563345,\n",
       "  0.07644654992409558,\n",
       "  0.060896951187533965,\n",
       "  0.046010836530121536,\n",
       "  0.032866708943686304,\n",
       "  0.021953414339054508,\n",
       "  0.013223913908431088,\n",
       "  0.00716795656219003,\n",
       "  0.0033521330775490047,\n",
       "  0.0013369084098224075,\n",
       "  0.0005932079397233289,\n",
       "  0.0003764526954742925,\n",
       "  0.0002911074603565179,\n",
       "  0.00024054130048260132,\n",
       "  0.0002046234405720708,\n",
       "  0.00017819829067032612,\n",
       "  0.00015734422021280284,\n",
       "  0.00014071336924066711,\n",
       "  0.000126954396416456,\n",
       "  0.00011553185428771868],\n",
       " 'binary_accuracy': [0.941020639192181,\n",
       "  0.9679795903470926,\n",
       "  0.9686694069545341,\n",
       "  0.9694337608184087,\n",
       "  0.9705982213605002,\n",
       "  0.972662042517753,\n",
       "  0.9752989478669959,\n",
       "  0.9789111528968292,\n",
       "  0.983123859823887,\n",
       "  0.987390712567831,\n",
       "  0.991588651119201,\n",
       "  0.9950313832506497,\n",
       "  0.9975599938686277,\n",
       "  0.999168156553679,\n",
       "  0.9998952300360158,\n",
       "  0.9999971873935627,\n",
       "  1.0,\n",
       "  1.0,\n",
       "  1.0,\n",
       "  1.0,\n",
       "  1.0,\n",
       "  1.0,\n",
       "  1.0,\n",
       "  1.0,\n",
       "  1.0]}"
      ]
     },
     "execution_count": 76,
     "metadata": {},
     "output_type": "execute_result"
    }
   ],
   "source": [
    "history.history"
   ]
  },
  {
   "cell_type": "code",
   "execution_count": 77,
   "metadata": {},
   "outputs": [
    {
     "data": {
      "image/png": "[encoded data removed]",
      "text/plain": [
       "<Figure size 432x288 with 1 Axes>"
      ]
     },
     "metadata": {},
     "output_type": "display_data"
    }
   ],
   "source": [
    "from scipy.interpolate import interp1d\n",
    "\n",
    "losses = history.history['loss']\n",
    "epochs = np.linspace(0, len(losses), num=len(losses), endpoint=True)\n",
    "\n",
    "xnew = np.linspace(0, len(losses), num=40, endpoint=True)\n",
    "f = interp1d(epochs, losses, kind='cubic')\n",
    "\n",
    "plt.plot(epochs, losses, '-', xnew, f(xnew))\n",
    "plt.legend(['losses', 'cubic'])\n",
    "plt.xlabel('Epoch')\n",
    "plt.ylabel('Loss')\n",
    "plt.show()"
   ]
  },
  {
   "cell_type": "code",
   "execution_count": 79,
   "metadata": {
    "colab": {
     "autoexec": {
      "startup": false,
      "wait_interval": 0
     }
    },
    "colab_type": "code",
    "id": "L4HUHhZKW6HS",
    "scrolled": true
   },
   "outputs": [
    {
     "name": "stdout",
     "output_type": "stream",
     "text": [
      "(0.6034789685163522, {'activation1': 'tanh', 'activation2': 'relu', 'activation3': 'relu', 'activation4': 'tanh', 'activation5': 'elu', 'activation6': 'elu', 'batch_size': 32, 'last_activation': 'sigmoid', 'layers': 7, 'nb_epochs': 25, 'optimizer': 'adadelta', 'units1': 128, 'units2': 256, 'units3': 1024, 'units4': 256, 'units5': 256, 'units6': 1024, 'accuracy': 0.6034789685163522})\n"
     ]
    }
   ],
   "source": [
    "print(max(scores))"
   ]
  },
  {
   "cell_type": "markdown",
   "metadata": {},
   "source": [
    "# Cross validate"
   ]
  },
  {
   "cell_type": "code",
   "execution_count": 80,
   "metadata": {},
   "outputs": [],
   "source": [
    "from sklearn.model_selection import StratifiedKFold"
   ]
  },
  {
   "cell_type": "code",
   "execution_count": 81,
   "metadata": {},
   "outputs": [
    {
     "name": "stdout",
     "output_type": "stream",
     "text": [
      "best_model.hd5\t     hyperopt_codes_2.ipynb  scores.json\r\n",
      "best_params.json     hyperopt_codes.ipynb    scores_test.json\r\n",
      "dataset_files\t     model_lib.py\t     visualisation.ipynb\r\n",
      "functions.py\t     README.md\r\n",
      "hamming-codes.ipynb  score_analyzer.py\r\n"
     ]
    }
   ],
   "source": [
    "!ls"
   ]
  },
  {
   "cell_type": "code",
   "execution_count": 82,
   "metadata": {},
   "outputs": [],
   "source": [
    "import json"
   ]
  },
  {
   "cell_type": "code",
   "execution_count": 83,
   "metadata": {},
   "outputs": [
    {
     "data": {
      "text/plain": [
       "{'activation1': 'elu',\n",
       " 'activation2': 'relu',\n",
       " 'activation3': 'relu',\n",
       " 'batch_size': 64,\n",
       " 'dropout1': 1,\n",
       " 'dropout2': 1,\n",
       " 'dropout3': 1,\n",
       " 'last_activation': 'sigmoid',\n",
       " 'nb_epochs': 10,\n",
       " 'optimizer': 'adam',\n",
       " 'units1': 1024,\n",
       " 'units2': 1024,\n",
       " 'units3': 1024,\n",
       " 'accuracy': 0.7830403645833334,\n",
       " 'activation4': 'tanh',\n",
       " 'dropout4': 1,\n",
       " 'layers': 4,\n",
       " 'units4': 128}"
      ]
     },
     "execution_count": 83,
     "metadata": {},
     "output_type": "execute_result"
    }
   ],
   "source": [
    "with open('best_params.json', 'r') as file:\n",
    "    best_params = json.load(file)\n",
    "best_params"
   ]
  },
  {
   "cell_type": "code",
   "execution_count": 84,
   "metadata": {},
   "outputs": [],
   "source": [
    "def check_cv(n_splits=5):\n",
    "    skf = StratifiedKFold(n_splits=n_splits, shuffle=True)\n",
    "    for i in range(n_splits):\n",
    "        train, test = skf.split(train_data, train_labels)\n",
    "        print(\"Running Fold\", i+1, \"/\", n_folds)\n",
    "        model = None # Clearing the NN.\n",
    "        model = create_model(best_params)\n",
    "        pred_auc = train_and_evaluate__model(model, best_params)\n",
    "        acc = binary_accuracy(y_val, pred_auc)\n",
    "        print('ACCURACY:', acc)"
   ]
  },
  {
   "cell_type": "code",
   "execution_count": 85,
   "metadata": {},
   "outputs": [
    {
     "ename": "ValueError",
     "evalue": "Supported target types are: ('binary', 'multiclass'). Got 'multilabel-indicator' instead.",
     "output_type": "error",
     "traceback": [
      "\u001b[0;31m---------------------------------------------------------------------------\u001b[0m",
      "\u001b[0;31mValueError\u001b[0m                                Traceback (most recent call last)",
      "\u001b[0;32m<ipython-input-85-ce5b02b0e75c>\u001b[0m in \u001b[0;36m<module>\u001b[0;34m()\u001b[0m\n\u001b[0;32m----> 1\u001b[0;31m \u001b[0mcheck_cv\u001b[0m\u001b[0;34m(\u001b[0m\u001b[0;34m)\u001b[0m\u001b[0;34m\u001b[0m\u001b[0m\n\u001b[0m",
      "\u001b[0;32m<ipython-input-84-d4cdc03727bd>\u001b[0m in \u001b[0;36mcheck_cv\u001b[0;34m(n_splits)\u001b[0m\n\u001b[1;32m      2\u001b[0m     \u001b[0mskf\u001b[0m \u001b[0;34m=\u001b[0m \u001b[0mStratifiedKFold\u001b[0m\u001b[0;34m(\u001b[0m\u001b[0mn_splits\u001b[0m\u001b[0;34m=\u001b[0m\u001b[0mn_splits\u001b[0m\u001b[0;34m,\u001b[0m \u001b[0mshuffle\u001b[0m\u001b[0;34m=\u001b[0m\u001b[0;32mTrue\u001b[0m\u001b[0;34m)\u001b[0m\u001b[0;34m\u001b[0m\u001b[0m\n\u001b[1;32m      3\u001b[0m     \u001b[0;32mfor\u001b[0m \u001b[0mi\u001b[0m \u001b[0;32min\u001b[0m \u001b[0mrange\u001b[0m\u001b[0;34m(\u001b[0m\u001b[0mn_splits\u001b[0m\u001b[0;34m)\u001b[0m\u001b[0;34m:\u001b[0m\u001b[0;34m\u001b[0m\u001b[0m\n\u001b[0;32m----> 4\u001b[0;31m         \u001b[0mtrain\u001b[0m\u001b[0;34m,\u001b[0m \u001b[0mtest\u001b[0m \u001b[0;34m=\u001b[0m \u001b[0mskf\u001b[0m\u001b[0;34m.\u001b[0m\u001b[0msplit\u001b[0m\u001b[0;34m(\u001b[0m\u001b[0mtrain_data\u001b[0m\u001b[0;34m,\u001b[0m \u001b[0mtrain_labels\u001b[0m\u001b[0;34m)\u001b[0m\u001b[0;34m\u001b[0m\u001b[0m\n\u001b[0m\u001b[1;32m      5\u001b[0m         \u001b[0mprint\u001b[0m\u001b[0;34m(\u001b[0m\u001b[0;34m\"Running Fold\"\u001b[0m\u001b[0;34m,\u001b[0m \u001b[0mi\u001b[0m\u001b[0;34m+\u001b[0m\u001b[0;36m1\u001b[0m\u001b[0;34m,\u001b[0m \u001b[0;34m\"/\"\u001b[0m\u001b[0;34m,\u001b[0m \u001b[0mn_folds\u001b[0m\u001b[0;34m)\u001b[0m\u001b[0;34m\u001b[0m\u001b[0m\n\u001b[1;32m      6\u001b[0m         \u001b[0mmodel\u001b[0m \u001b[0;34m=\u001b[0m \u001b[0;32mNone\u001b[0m \u001b[0;31m# Clearing the NN.\u001b[0m\u001b[0;34m\u001b[0m\u001b[0m\n",
      "\u001b[0;32m~/.local/lib/python3.6/site-packages/sklearn/model_selection/_split.py\u001b[0m in \u001b[0;36msplit\u001b[0;34m(self, X, y, groups)\u001b[0m\n\u001b[1;32m    330\u001b[0m                                                              n_samples))\n\u001b[1;32m    331\u001b[0m \u001b[0;34m\u001b[0m\u001b[0m\n\u001b[0;32m--> 332\u001b[0;31m         \u001b[0;32mfor\u001b[0m \u001b[0mtrain\u001b[0m\u001b[0;34m,\u001b[0m \u001b[0mtest\u001b[0m \u001b[0;32min\u001b[0m \u001b[0msuper\u001b[0m\u001b[0;34m(\u001b[0m\u001b[0m_BaseKFold\u001b[0m\u001b[0;34m,\u001b[0m \u001b[0mself\u001b[0m\u001b[0;34m)\u001b[0m\u001b[0;34m.\u001b[0m\u001b[0msplit\u001b[0m\u001b[0;34m(\u001b[0m\u001b[0mX\u001b[0m\u001b[0;34m,\u001b[0m \u001b[0my\u001b[0m\u001b[0;34m,\u001b[0m \u001b[0mgroups\u001b[0m\u001b[0;34m)\u001b[0m\u001b[0;34m:\u001b[0m\u001b[0;34m\u001b[0m\u001b[0m\n\u001b[0m\u001b[1;32m    333\u001b[0m             \u001b[0;32myield\u001b[0m \u001b[0mtrain\u001b[0m\u001b[0;34m,\u001b[0m \u001b[0mtest\u001b[0m\u001b[0;34m\u001b[0m\u001b[0m\n\u001b[1;32m    334\u001b[0m \u001b[0;34m\u001b[0m\u001b[0m\n",
      "\u001b[0;32m~/.local/lib/python3.6/site-packages/sklearn/model_selection/_split.py\u001b[0m in \u001b[0;36msplit\u001b[0;34m(self, X, y, groups)\u001b[0m\n\u001b[1;32m     93\u001b[0m         \u001b[0mX\u001b[0m\u001b[0;34m,\u001b[0m \u001b[0my\u001b[0m\u001b[0;34m,\u001b[0m \u001b[0mgroups\u001b[0m \u001b[0;34m=\u001b[0m \u001b[0mindexable\u001b[0m\u001b[0;34m(\u001b[0m\u001b[0mX\u001b[0m\u001b[0;34m,\u001b[0m \u001b[0my\u001b[0m\u001b[0;34m,\u001b[0m \u001b[0mgroups\u001b[0m\u001b[0;34m)\u001b[0m\u001b[0;34m\u001b[0m\u001b[0m\n\u001b[1;32m     94\u001b[0m         \u001b[0mindices\u001b[0m \u001b[0;34m=\u001b[0m \u001b[0mnp\u001b[0m\u001b[0;34m.\u001b[0m\u001b[0marange\u001b[0m\u001b[0;34m(\u001b[0m\u001b[0m_num_samples\u001b[0m\u001b[0;34m(\u001b[0m\u001b[0mX\u001b[0m\u001b[0;34m)\u001b[0m\u001b[0;34m)\u001b[0m\u001b[0;34m\u001b[0m\u001b[0m\n\u001b[0;32m---> 95\u001b[0;31m         \u001b[0;32mfor\u001b[0m \u001b[0mtest_index\u001b[0m \u001b[0;32min\u001b[0m \u001b[0mself\u001b[0m\u001b[0;34m.\u001b[0m\u001b[0m_iter_test_masks\u001b[0m\u001b[0;34m(\u001b[0m\u001b[0mX\u001b[0m\u001b[0;34m,\u001b[0m \u001b[0my\u001b[0m\u001b[0;34m,\u001b[0m \u001b[0mgroups\u001b[0m\u001b[0;34m)\u001b[0m\u001b[0;34m:\u001b[0m\u001b[0;34m\u001b[0m\u001b[0m\n\u001b[0m\u001b[1;32m     96\u001b[0m             \u001b[0mtrain_index\u001b[0m \u001b[0;34m=\u001b[0m \u001b[0mindices\u001b[0m\u001b[0;34m[\u001b[0m\u001b[0mnp\u001b[0m\u001b[0;34m.\u001b[0m\u001b[0mlogical_not\u001b[0m\u001b[0;34m(\u001b[0m\u001b[0mtest_index\u001b[0m\u001b[0;34m)\u001b[0m\u001b[0;34m]\u001b[0m\u001b[0;34m\u001b[0m\u001b[0m\n\u001b[1;32m     97\u001b[0m             \u001b[0mtest_index\u001b[0m \u001b[0;34m=\u001b[0m \u001b[0mindices\u001b[0m\u001b[0;34m[\u001b[0m\u001b[0mtest_index\u001b[0m\u001b[0;34m]\u001b[0m\u001b[0;34m\u001b[0m\u001b[0m\n",
      "\u001b[0;32m~/.local/lib/python3.6/site-packages/sklearn/model_selection/_split.py\u001b[0m in \u001b[0;36m_iter_test_masks\u001b[0;34m(self, X, y, groups)\u001b[0m\n\u001b[1;32m    632\u001b[0m \u001b[0;34m\u001b[0m\u001b[0m\n\u001b[1;32m    633\u001b[0m     \u001b[0;32mdef\u001b[0m \u001b[0m_iter_test_masks\u001b[0m\u001b[0;34m(\u001b[0m\u001b[0mself\u001b[0m\u001b[0;34m,\u001b[0m \u001b[0mX\u001b[0m\u001b[0;34m,\u001b[0m \u001b[0my\u001b[0m\u001b[0;34m=\u001b[0m\u001b[0;32mNone\u001b[0m\u001b[0;34m,\u001b[0m \u001b[0mgroups\u001b[0m\u001b[0;34m=\u001b[0m\u001b[0;32mNone\u001b[0m\u001b[0;34m)\u001b[0m\u001b[0;34m:\u001b[0m\u001b[0;34m\u001b[0m\u001b[0m\n\u001b[0;32m--> 634\u001b[0;31m         \u001b[0mtest_folds\u001b[0m \u001b[0;34m=\u001b[0m \u001b[0mself\u001b[0m\u001b[0;34m.\u001b[0m\u001b[0m_make_test_folds\u001b[0m\u001b[0;34m(\u001b[0m\u001b[0mX\u001b[0m\u001b[0;34m,\u001b[0m \u001b[0my\u001b[0m\u001b[0;34m)\u001b[0m\u001b[0;34m\u001b[0m\u001b[0m\n\u001b[0m\u001b[1;32m    635\u001b[0m         \u001b[0;32mfor\u001b[0m \u001b[0mi\u001b[0m \u001b[0;32min\u001b[0m \u001b[0mrange\u001b[0m\u001b[0;34m(\u001b[0m\u001b[0mself\u001b[0m\u001b[0;34m.\u001b[0m\u001b[0mn_splits\u001b[0m\u001b[0;34m)\u001b[0m\u001b[0;34m:\u001b[0m\u001b[0;34m\u001b[0m\u001b[0m\n\u001b[1;32m    636\u001b[0m             \u001b[0;32myield\u001b[0m \u001b[0mtest_folds\u001b[0m \u001b[0;34m==\u001b[0m \u001b[0mi\u001b[0m\u001b[0;34m\u001b[0m\u001b[0m\n",
      "\u001b[0;32m~/.local/lib/python3.6/site-packages/sklearn/model_selection/_split.py\u001b[0m in \u001b[0;36m_make_test_folds\u001b[0;34m(self, X, y)\u001b[0m\n\u001b[1;32m    587\u001b[0m             raise ValueError(\n\u001b[1;32m    588\u001b[0m                 'Supported target types are: {}. Got {!r} instead.'.format(\n\u001b[0;32m--> 589\u001b[0;31m                     allowed_target_types, type_of_target_y))\n\u001b[0m\u001b[1;32m    590\u001b[0m \u001b[0;34m\u001b[0m\u001b[0m\n\u001b[1;32m    591\u001b[0m         \u001b[0my\u001b[0m \u001b[0;34m=\u001b[0m \u001b[0mcolumn_or_1d\u001b[0m\u001b[0;34m(\u001b[0m\u001b[0my\u001b[0m\u001b[0;34m)\u001b[0m\u001b[0;34m\u001b[0m\u001b[0m\n",
      "\u001b[0;31mValueError\u001b[0m: Supported target types are: ('binary', 'multiclass'). Got 'multilabel-indicator' instead."
     ]
    }
   ],
   "source": [
    "check_cv()"
   ]
  },
  {
   "cell_type": "code",
   "execution_count": null,
   "metadata": {},
   "outputs": [],
   "source": []
  }
 ],
 "metadata": {
  "accelerator": "GPU",
  "colab": {
   "collapsed_sections": [],
   "default_view": {},
   "name": "hyperopt_codes.ipynb",
   "provenance": [],
   "version": "0.3.2",
   "views": {}
  },
  "kernelspec": {
   "display_name": "Python 3",
   "language": "python",
   "name": "python3"
  },
  "language_info": {
   "codemirror_mode": {
    "name": "ipython",
    "version": 3
   },
   "file_extension": ".py",
   "mimetype": "text/x-python",
   "name": "python",
   "nbconvert_exporter": "python",
   "pygments_lexer": "ipython3",
   "version": "3.6.5"
  }
 },
 "nbformat": 4,
 "nbformat_minor": 1
}
