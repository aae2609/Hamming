{
 "cells": [
  {
   "cell_type": "code",
   "execution_count": 1,
   "metadata": {
    "colab": {
     "autoexec": {
      "startup": false,
      "wait_interval": 0
     },
     "base_uri": "https://localhost:8080/",
     "height": 106
    },
    "colab_type": "code",
    "executionInfo": {
     "elapsed": 17337,
     "status": "ok",
     "timestamp": 1523701899795,
     "user": {
      "displayName": "Roman Kravtsov",
      "photoUrl": "https://lh3.googleusercontent.com/a/default-user=s128",
      "userId": "111193078234152704111"
     },
     "user_tz": -180
    },
    "id": "jLgugF4GUq62",
    "outputId": "833dd7df-86a3-47fe-a290-da9cc3d32309"
   },
   "outputs": [],
   "source": [
    "# !apt-get install -y -qq software-properties-common python-software-properties module-init-tools\n",
    "# !add-apt-repository -y ppa:alessandro-strada/ppa 2>&1 > /dev/null\n",
    "# !apt-get update -qq 2>&1 > /dev/null\n",
    "# !apt-get -y install -qq google-drive-ocamlfuse fuse\n",
    "# from google.colab import auth\n",
    "# auth.authenticate_user()\n",
    "# from oauth2client.client import GoogleCredentials\n",
    "# creds = GoogleCredentials.get_application_default()\n",
    "# import getpass\n",
    "# !google-drive-ocamlfuse -headless -id={creds.client_id} -secret={creds.client_secret} < /dev/null 2>&1 | grep URL\n",
    "# vcode = getpass.getpass()\n",
    "# !echo {vcode} | google-drive-ocamlfuse -headless -id={creds.client_id} -secret={creds.client_secret}"
   ]
  },
  {
   "cell_type": "code",
   "execution_count": 2,
   "metadata": {
    "colab": {
     "autoexec": {
      "startup": false,
      "wait_interval": 0
     }
    },
    "colab_type": "code",
    "id": "-Up-zUgBVOr6"
   },
   "outputs": [],
   "source": [
    "# !mkdir -p drive\n",
    "# !google-drive-ocamlfuse drive\n",
    "# !pip install -q keras\n",
    "# !pip install -q pandas\n",
    "# !pip install -q numpy"
   ]
  },
  {
   "cell_type": "code",
   "execution_count": 3,
   "metadata": {
    "colab": {
     "autoexec": {
      "startup": false,
      "wait_interval": 0
     }
    },
    "colab_type": "code",
    "id": "pAb2ZFhFS2C2"
   },
   "outputs": [
    {
     "name": "stderr",
     "output_type": "stream",
     "text": [
      "/home/anton/.local/lib/python3.6/site-packages/h5py/__init__.py:36: FutureWarning: Conversion of the second argument of issubdtype from `float` to `np.floating` is deprecated. In future, it will be treated as `np.float64 == np.dtype(float).type`.\n",
      "  from ._conv import register_converters as _register_converters\n",
      "Using TensorFlow backend.\n"
     ]
    }
   ],
   "source": [
    "# cp ~/.config/google-chrome/Default/Cookies ~/.config/google-chrome/Default/Cookies.bak\n",
    "# cp ~/.config/google-chrome/Default/Cookies ~/.config/google-chrome/Default/Cookies.bak\n",
    "import os \n",
    "import sys\n",
    "import json\n",
    "import numpy as np\n",
    "import pandas as pd\n",
    "import tensorflow as tf\n",
    "import keras.backend as K\n",
    "import matplotlib.pyplot as plt\n",
    "\n",
    "from keras.models import load_model\n",
    "from keras.models import Sequential, Model\n",
    "from keras.layers import Conv1D, Reshape, Flatten, MaxPooling1D, UpSampling1D\n",
    "from keras.layers.recurrent import LSTM\n",
    "from keras.layers import Input, Dense, Concatenate, CuDNNLSTM\n",
    "from keras.callbacks import History, ModelCheckpoint \n",
    "\n",
    "from iteration_utilities import flatten\n",
    "from sklearn import model_selection\n",
    "from __future__ import absolute_import"
   ]
  },
  {
   "cell_type": "code",
   "execution_count": 4,
   "metadata": {
    "colab": {
     "autoexec": {
      "startup": false,
      "wait_interval": 0
     }
    },
    "colab_type": "code",
    "id": "pAb2ZFhFS2C2"
   },
   "outputs": [],
   "source": [
    "# os.chdir(\"/content/drive/Hamming\")\n",
    "# sys.path.append(\"Hamming\")\n",
    "\n",
    "# import functions as f\n",
    "# import model_lib "
   ]
  },
  {
   "cell_type": "code",
   "execution_count": 5,
   "metadata": {
    "colab": {
     "autoexec": {
      "startup": false,
      "wait_interval": 0
     },
     "base_uri": "https://localhost:8080/",
     "height": 86
    },
    "colab_type": "code",
    "executionInfo": {
     "elapsed": 10324,
     "status": "ok",
     "timestamp": 1523701925502,
     "user": {
      "displayName": "Roman Kravtsov",
      "photoUrl": "https://lh3.googleusercontent.com/a/default-user=s128",
      "userId": "111193078234152704111"
     },
     "user_tz": -180
    },
    "id": "GLXacC51fWKw",
    "outputId": "78820a97-2b84-4c7f-c4cb-1b40c495a6f8"
   },
   "outputs": [
    {
     "data": {
      "text/plain": [
       "''"
      ]
     },
     "execution_count": 5,
     "metadata": {},
     "output_type": "execute_result"
    }
   ],
   "source": [
    "tf.test.gpu_device_name()"
   ]
  },
  {
   "cell_type": "markdown",
   "metadata": {},
   "source": [
    "# Set code params"
   ]
  },
  {
   "cell_type": "code",
   "execution_count": 6,
   "metadata": {},
   "outputs": [],
   "source": [
    "# N, K_ = 31, 26\n",
    "N, K_= 16, 11"
   ]
  },
  {
   "cell_type": "code",
   "execution_count": 7,
   "metadata": {},
   "outputs": [],
   "source": [
    "# directory to save model, history, sub_datasets and pictures\n",
    "model_directory = 'model_checkpoints_stratificate_2/'"
   ]
  },
  {
   "cell_type": "code",
   "execution_count": 8,
   "metadata": {},
   "outputs": [],
   "source": [
    "if not os.path.exists(model_directory):\n",
    "    os.makedirs(model_directory)"
   ]
  },
  {
   "cell_type": "code",
   "execution_count": 9,
   "metadata": {
    "colab": {
     "autoexec": {
      "startup": false,
      "wait_interval": 0
     }
    },
    "colab_type": "code",
    "id": "F_zimhx7Z8wu"
   },
   "outputs": [],
   "source": [
    "TRAIN_PATH = './dataset_files/hamming_15_11.txt'\n",
    "TEST_PATH = './dataset_files/hamming_15_11_all.txt'\n",
    "\n",
    "COLUMN_NAMES = ['plainword', 'codeword', \n",
    "                'id_error', 'bin_error', 'defective_codeword']\n",
    "types = [str, str, int, str, str]\n",
    "types = dict(zip(COLUMN_NAMES, types))"
   ]
  },
  {
   "cell_type": "markdown",
   "metadata": {},
   "source": [
    "# Define functions"
   ]
  },
  {
   "cell_type": "code",
   "execution_count": 10,
   "metadata": {
    "colab": {
     "autoexec": {
      "startup": false,
      "wait_interval": 0
     }
    },
    "colab_type": "code",
    "id": "F_zimhx7Z8wu"
   },
   "outputs": [],
   "source": [
    "def load_data(path):\n",
    "    return pd.read_csv(path, sep=';', names=COLUMN_NAMES, dtype=types)"
   ]
  },
  {
   "cell_type": "code",
   "execution_count": 11,
   "metadata": {
    "colab": {
     "autoexec": {
      "startup": false,
      "wait_interval": 0
     }
    },
    "colab_type": "code",
    "id": "qOJTCmD_Z-Zz"
   },
   "outputs": [],
   "source": [
    "def hamming_distance(first: str, second: str) -> int:\n",
    "    return len([1 for (x, y) in zip(first, second) if x != y])"
   ]
  },
  {
   "cell_type": "code",
   "execution_count": 12,
   "metadata": {
    "colab": {
     "autoexec": {
      "startup": false,
      "wait_interval": 0
     }
    },
    "colab_type": "code",
    "id": "dqSfcsGwDOSF"
   },
   "outputs": [],
   "source": [
    "def make_features():\n",
    "#     data['dec_defective_codeword'] = data['defective_codeword'][:].apply(lambda x: int(x, 2))\n",
    "\n",
    "    for j in range(len(data['codeword'][0])):\n",
    "        data['cod_' + str(j)] = data['codeword'][:].apply(lambda x: int(x[j]))\n",
    "\n",
    "    for j in range(len(data['defective_codeword'][0])):\n",
    "        data['def_' + str(j)] = data['defective_codeword'][:].apply(lambda x: int(x[j]))\n",
    "\n",
    "#     for j in range(len(data['bin_error'][0])):\n",
    "#         data['mask_' + str(j)] = data['bin_error'][:].apply(lambda x: int(x[j]))\n",
    "        \n",
    "    data['weight'] = 1\n",
    "    data.loc[data['codeword'] == data['defective_codeword'], 'weight'] = 10  ### 19\n",
    "    for j in range(len(data['plainword'][0])):\n",
    "        data['pln_' + str(j)] = data['plainword'][:].apply(lambda x: int(x[j]))\n",
    "    \n",
    "#     return data"
   ]
  },
  {
   "cell_type": "code",
   "execution_count": 13,
   "metadata": {},
   "outputs": [],
   "source": [
    "def stratificate_split_data(test_size):\n",
    "    N1 = N + 1\n",
    "    to_test = round(N1 * test_size)  # count of lines from each \"pack\" \n",
    "    to_train = N1 - to_test\n",
    "\n",
    "    train_indices = [list(range(i*N1, i*N1 + to_train)) for i in range(2**K_)]\n",
    "    train_indices = list(flatten(train_indices))\n",
    "    test_indices = sorted(set(range(N1 * 2**K_)) - set(train_indices))\n",
    "    \n",
    "    train_data = data.loc[train_indices, 'def_0':'weight']\n",
    "    test_data = data.loc[test_indices, 'def_0':'weight']\n",
    "    \n",
    "    train_labels = data.loc[train_indices, 'cod_0':'cod_'+str(N-1)]\n",
    "    test_labels = data.loc[test_indices, 'cod_0':'cod_'+str(N-1)]\n",
    "    \n",
    "    train_weight = train_data.pop('weight')\n",
    "    test_data.drop(columns=['weight'], inplace=True)\n",
    "    return np.array(train_data), np.array(test_data), \\\n",
    "           np.array(train_labels), np.array(test_labels), \\\n",
    "           np.array(train_weight)"
   ]
  },
  {
   "cell_type": "code",
   "execution_count": 14,
   "metadata": {
    "colab": {
     "autoexec": {
      "startup": false,
      "wait_interval": 0
     }
    },
    "colab_type": "code",
    "id": "MV-N_rg3aHeD"
   },
   "outputs": [],
   "source": [
    "def split_data(test_size): \n",
    "    train_data, test_data, train_labels, test_labels = \\\n",
    "        model_selection.train_test_split(data.loc[:, 'def_0':'weight'], \n",
    "                                         data.loc[:, 'cod_0':'cod_'+str(N-1)], # 'mask_0':'pln_25' \n",
    "                                         test_size = test_size) \n",
    "    \n",
    "    train_weight = train_data.pop('weight')\n",
    "    test_data.drop(columns=['weight'], inplace=True)\n",
    "    return np.array(train_data), np.array(test_data), \\\n",
    "           np.array(train_labels), np.array(test_labels), \\\n",
    "           np.array(train_weight)"
   ]
  },
  {
   "cell_type": "code",
   "execution_count": 15,
   "metadata": {},
   "outputs": [],
   "source": [
    "def logloss(y_true, y_pred): \n",
    "    return -K.log(1 - K.abs(y_true - y_pred))"
   ]
  },
  {
   "cell_type": "code",
   "execution_count": 16,
   "metadata": {},
   "outputs": [],
   "source": [
    "def exploss(y_true, y_pred): \n",
    "    return K.exp(K.abs(y_true - y_pred)) - 1"
   ]
  },
  {
   "cell_type": "code",
   "execution_count": 17,
   "metadata": {
    "colab": {
     "autoexec": {
      "startup": false,
      "wait_interval": 0
     }
    },
    "colab_type": "code",
    "id": "aNQw6QTSU1rZ"
   },
   "outputs": [],
   "source": [
    "def probs_to_labels(predicted_probs):\n",
    "    return [int(x > 0.5) for x in predicted_probs]"
   ]
  },
  {
   "cell_type": "code",
   "execution_count": 18,
   "metadata": {
    "colab": {
     "autoexec": {
      "startup": false,
      "wait_interval": 0
     }
    },
    "colab_type": "code",
    "id": "aNQw6QTSU1rZ"
   },
   "outputs": [],
   "source": [
    "def count_errors(y, y_pred):\n",
    "    count = 0\n",
    "    for i in range (0, N):\n",
    "        labelBit = y[i]\n",
    "        resultBit = y_pred[i]\n",
    "        if labelBit != resultBit:\n",
    "            count += 1\n",
    "    return count"
   ]
  },
  {
   "cell_type": "code",
   "execution_count": 19,
   "metadata": {
    "colab": {
     "autoexec": {
      "startup": false,
      "wait_interval": 0
     },
     "base_uri": "https://localhost:8080/",
     "height": 34
    },
    "colab_type": "code",
    "executionInfo": {
     "elapsed": 41551,
     "status": "ok",
     "timestamp": 1523702674149,
     "user": {
      "displayName": "Roman Kravtsov",
      "photoUrl": "https://lh3.googleusercontent.com/a/default-user=s128",
      "userId": "111193078234152704111"
     },
     "user_tz": -180
    },
    "id": "97XAuvD0frXD",
    "outputId": "f2c45915-5eba-499a-8a0a-9be55ae075cb"
   },
   "outputs": [],
   "source": [
    "def get_error_stats(test_labels, y_pred):\n",
    "    errorStats = {0: 0}\n",
    "    for i in range(y_pred.shape[0]):\n",
    "        resultArray = probs_to_labels(y_pred[i])\n",
    "        errorNum = count_errors(test_labels[i], resultArray)\n",
    "        if errorStats.get(errorNum) == None:\n",
    "            errorStats[errorNum] = 0\n",
    "        errorStats[errorNum] += 1\n",
    "    return errorStats"
   ]
  },
  {
   "cell_type": "code",
   "execution_count": 20,
   "metadata": {
    "colab": {
     "autoexec": {
      "startup": false,
      "wait_interval": 0
     }
    },
    "colab_type": "code",
    "id": "aAYas-44aA_h"
   },
   "outputs": [],
   "source": [
    "def binary_accuracy(y, y_pred):\n",
    "    return sum(1 if np.array_equal(a, probs_to_labels(b)) else 0 for (a,b) in zip(y, y_pred)) / y.shape[0]"
   ]
  },
  {
   "cell_type": "code",
   "execution_count": 21,
   "metadata": {},
   "outputs": [],
   "source": [
    "def plot_history_fields(history, fields, save=False, plot_from=0, plot_to=-1):\n",
    "    # num_dots_to_plot == -1  => plot all\n",
    "\n",
    "    figsize_x = 20\n",
    "    figsize_y = 10\n",
    "    \n",
    "    fontsize = 20\n",
    "    \n",
    "    if 'loss' in fields:\n",
    "        # summarize history for loss\n",
    "        plt.figure(figsize=(figsize_x, figsize_y))\n",
    "        plt.title('Функция потерь модели', fontsize=fontsize)\n",
    "        plt.plot(history['val_loss'][plot_from:plot_to])\n",
    "        plt.plot(history['loss'][plot_from:plot_to])\n",
    "        plt.ylabel('Функция потерь', fontsize=fontsize)\n",
    "        plt.xlabel('Номер эпохи', fontsize=fontsize)\n",
    "        plt.legend(['Валидация', 'Обучение'], loc='upper right', fontsize=fontsize, borderpad=2, labelspacing=1)\n",
    "        if save:\n",
    "            plt.savefig(model_directory + 'model_loss.png')\n",
    "        plt.show()\n",
    "        \n",
    "    if 'accuracy' in fields:\n",
    "        # summarize history for accuracy\n",
    "        plt.figure(figsize=(figsize_x, figsize_y))\n",
    "        plt.title('Точность модели', fontsize=fontsize)\n",
    "        plt.plot(history['val_acc'][plot_from:plot_to])\n",
    "        plt.plot(history['acc'][plot_from:plot_to])\n",
    "        plt.ylabel('Точность', fontsize=fontsize)\n",
    "        plt.xlabel('Номер эпохи', fontsize=fontsize)\n",
    "        plt.legend(['Валидация', 'Обучение'], loc='lower right', fontsize=fontsize, borderpad=2, labelspacing=1)\n",
    "        if save:\n",
    "            plt.savefig(model_directory + 'model_accuracy.png')\n",
    "        plt.show()\n",
    "        \n",
    "    if 'binary_accuracy' in fields:\n",
    "        # summarize history for binary accuracy\n",
    "        plt.figure(figsize=(figsize_x, figsize_y))\n",
    "        plt.title('Бинарная точность модели', fontsize=fontsize)\n",
    "        plt.plot(history['val_binary_accuracy'][plot_from:plot_to])\n",
    "        plt.plot(history['binary_accuracy'][plot_from:plot_to])\n",
    "        plt.ylabel('Бинарная точность', fontsize=fontsize)\n",
    "        plt.xlabel('Номер эпохи', fontsize=fontsize)\n",
    "        plt.legend(['Валидация', 'Обучение'], loc='lower right', fontsize=fontsize, borderpad=2, labelspacing=1)\n",
    "        if save:\n",
    "            plt.savefig(model_directory + 'model_binary_accuracy.png')\n",
    "        plt.show()\n",
    "        "
   ]
  },
  {
   "cell_type": "code",
   "execution_count": 22,
   "metadata": {
    "colab": {
     "autoexec": {
      "startup": false,
      "wait_interval": 0
     }
    },
    "colab_type": "code",
    "id": "RsJUBrPieZ2a"
   },
   "outputs": [],
   "source": [
    "# !git pull"
   ]
  },
  {
   "cell_type": "markdown",
   "metadata": {},
   "source": [
    "# Load data and fit model"
   ]
  },
  {
   "cell_type": "code",
   "execution_count": 23,
   "metadata": {},
   "outputs": [
    {
     "name": "stdout",
     "output_type": "stream",
     "text": [
      "(34816, 5)\n",
      "(34816, 49)\n",
      "CPU times: user 732 ms, sys: 10.7 ms, total: 743 ms\n",
      "Wall time: 753 ms\n"
     ]
    }
   ],
   "source": [
    "%%time\n",
    "data = load_data(TEST_PATH)\n",
    "print(data.shape)\n",
    "make_features()\n",
    "print(data.shape)\n",
    "train_data, test_data, train_labels, test_labels, train_weight = stratificate_split_data(test_size=0.5)\n",
    "# train_data, test_data, train_labels, test_labels, train_weight = split_data(test_size=0.3)\n",
    "data.head()\n",
    "# del(data)"
   ]
  },
  {
   "cell_type": "code",
   "execution_count": 24,
   "metadata": {
    "colab": {
     "autoexec": {
      "startup": false,
      "wait_interval": 0
     },
     "base_uri": "https://localhost:8080/",
     "height": 34
    },
    "colab_type": "code",
    "executionInfo": {
     "elapsed": 11549,
     "status": "ok",
     "timestamp": 1523702485408,
     "user": {
      "displayName": "Roman Kravtsov",
      "photoUrl": "https://lh3.googleusercontent.com/a/default-user=s128",
      "userId": "111193078234152704111"
     },
     "user_tz": -180
    },
    "id": "6QQ0swyyhrHK",
    "outputId": "c5969220-8397-4def-b1cc-72ca2a664ff9"
   },
   "outputs": [],
   "source": [
    "# %%time\n",
    "# data = load_data(TRAIN_PATH)\n",
    "# # int_to_str()\n",
    "# print(data.shape)\n",
    "# make_features()\n",
    "# print(data.shape)\n",
    "# train_data, _, train_labels, _, train_weight = split_data(test_size=0.0001)\n",
    "\n",
    "# data = load_data(TEST_PATH)\n",
    "# # int_to_str()\n",
    "# print(data.shape)\n",
    "# make_features()\n",
    "# print(data.shape)\n",
    "# _, test_data, _, test_labels, _ = split_data(test_size=0.9999)\n",
    "# del(data)"
   ]
  },
  {
   "cell_type": "code",
   "execution_count": 25,
   "metadata": {},
   "outputs": [],
   "source": [
    "history = History()\n",
    "MCP = ModelCheckpoint(model_directory + 'model_epoch:{epoch:02d}_val_loss:{val_loss:.4f}.hdf5', \n",
    "                      monitor='val_loss', \n",
    "                      verbose=0, \n",
    "                      save_best_only=True, \n",
    "                      save_weights_only=False, \n",
    "                      mode='auto', \n",
    "                      period=10\n",
    "                     )"
   ]
  },
  {
   "cell_type": "markdown",
   "metadata": {},
   "source": [
    "mul for N=16\n",
    "* 10 - 84%\n",
    "* 12 - 89%\n",
    "* 13 - 92%\n",
    "* 14 - 52%\n",
    "* 15 - 7х%"
   ]
  },
  {
   "cell_type": "code",
   "execution_count": 26,
   "metadata": {},
   "outputs": [],
   "source": [
    "mul = 1"
   ]
  },
  {
   "cell_type": "code",
   "execution_count": 26,
   "metadata": {
    "colab": {
     "autoexec": {
      "startup": false,
      "wait_interval": 0
     },
     "base_uri": "https://localhost:8080/",
     "height": 398
    },
    "colab_type": "code",
    "executionInfo": {
     "elapsed": 741,
     "status": "ok",
     "timestamp": 1523701952025,
     "user": {
      "displayName": "Roman Kravtsov",
      "photoUrl": "https://lh3.googleusercontent.com/a/default-user=s128",
      "userId": "111193078234152704111"
     },
     "user_tz": -180
    },
    "id": "9fktLgLrU1rL",
    "outputId": "aa6bca04-4ade-43ae-f306-cff058ffc24c"
   },
   "outputs": [
    {
     "name": "stdout",
     "output_type": "stream",
     "text": [
      "_________________________________________________________________\n",
      "Layer (type)                 Output Shape              Param #   \n",
      "=================================================================\n",
      "input_1 (InputLayer)         (None, 16)                0         \n",
      "_________________________________________________________________\n",
      "dense_1 (Dense)              (None, 16)                272       \n",
      "_________________________________________________________________\n",
      "d3 (Dense)                   (None, 16)                272       \n",
      "=================================================================\n",
      "Total params: 544\n",
      "Trainable params: 544\n",
      "Non-trainable params: 0\n",
      "_________________________________________________________________\n"
     ]
    }
   ],
   "source": [
    "\n",
    "# from keras import models\n",
    "# from keras.utils import to_categorical\n",
    "# from keras.callbacks import ModelCheckpoint\n",
    "\n",
    "inp = Input(shape=(N,))\n",
    "x = Dense(mul * N, activation='sigmoid')(inp)\n",
    "# x = Dense(mul * N, activation='sigmoid', kernel_initializer = \"glorot_uniform\")(x)\n",
    "# x = Dense(mul * N, activation='sigmoid', kernel_initializer = \"glorot_uniform\")(x)\n",
    "# x = Dense(mul * N, activation='sigmoid', kernel_initializer = \"glorot_uniform\")(x)\n",
    "m = Dense(N, activation='sigmoid', name='d3')(x)\n",
    "\n",
    "model = Model(inp, m, 'm')\n",
    "model.compile(loss=exploss, optimizer='adam', metrics=['binary_accuracy', 'accuracy'])\n",
    "model.summary()"
   ]
  },
  {
   "cell_type": "code",
   "execution_count": 67,
   "metadata": {
    "colab": {
     "autoexec": {
      "startup": false,
      "wait_interval": 0
     },
     "base_uri": "https://localhost:8080/",
     "height": 592
    },
    "colab_type": "code",
    "executionInfo": {
     "elapsed": 171345,
     "status": "ok",
     "timestamp": 1523702134004,
     "user": {
      "displayName": "Roman Kravtsov",
      "photoUrl": "https://lh3.googleusercontent.com/a/default-user=s128",
      "userId": "111193078234152704111"
     },
     "user_tz": -180
    },
    "id": "xKvAVKxUU1rN",
    "outputId": "5629fb29-33e0-4ded-e7be-ca6be77224d5",
    "scrolled": true
   },
   "outputs": [
    {
     "name": "stdout",
     "output_type": "stream",
     "text": [
      "Train on 15667 samples, validate on 2765 samples\n",
      "Epoch 1/4000\n",
      "15667/15667 [==============================] - 0s 22us/step - loss: 0.6491 - binary_accuracy: 0.5181 - acc: 0.0131 - val_loss: 0.6426 - val_binary_accuracy: 0.5345 - val_acc: 0.0163\n",
      "Epoch 2/4000\n",
      "15667/15667 [==============================] - 0s 6us/step - loss: 0.6334 - binary_accuracy: 0.5883 - acc: 0.0215 - val_loss: 0.6280 - val_binary_accuracy: 0.6247 - val_acc: 0.0203\n",
      "Epoch 3/4000\n",
      "15667/15667 [==============================] - 0s 6us/step - loss: 0.6195 - binary_accuracy: 0.6760 - acc: 0.0267 - val_loss: 0.6137 - val_binary_accuracy: 0.7033 - val_acc: 0.0297\n",
      "Epoch 4/4000\n",
      "15667/15667 [==============================] - 0s 6us/step - loss: 0.6048 - binary_accuracy: 0.7387 - acc: 0.0351 - val_loss: 0.5986 - val_binary_accuracy: 0.7506 - val_acc: 0.0354\n",
      "Epoch 5/4000\n",
      "15667/15667 [==============================] - 0s 6us/step - loss: 0.5892 - binary_accuracy: 0.7720 - acc: 0.0525 - val_loss: 0.5826 - val_binary_accuracy: 0.7810 - val_acc: 0.0438\n",
      "Epoch 6/4000\n",
      "15667/15667 [==============================] - 0s 5us/step - loss: 0.5727 - binary_accuracy: 0.7937 - acc: 0.0547 - val_loss: 0.5660 - val_binary_accuracy: 0.7980 - val_acc: 0.0557\n",
      "Epoch 7/4000\n",
      "15667/15667 [==============================] - 0s 6us/step - loss: 0.5557 - binary_accuracy: 0.8072 - acc: 0.0725 - val_loss: 0.5490 - val_binary_accuracy: 0.8072 - val_acc: 0.0604\n",
      "Epoch 8/4000\n",
      "15667/15667 [==============================] - 0s 6us/step - loss: 0.5386 - binary_accuracy: 0.8164 - acc: 0.0764 - val_loss: 0.5320 - val_binary_accuracy: 0.8154 - val_acc: 0.0676\n",
      "Epoch 9/4000\n",
      "15667/15667 [==============================] - 0s 5us/step - loss: 0.5215 - binary_accuracy: 0.8245 - acc: 0.0887 - val_loss: 0.5153 - val_binary_accuracy: 0.8221 - val_acc: 0.0749\n",
      "Epoch 10/4000\n",
      "15667/15667 [==============================] - 0s 6us/step - loss: 0.5049 - binary_accuracy: 0.8301 - acc: 0.0879 - val_loss: 0.4989 - val_binary_accuracy: 0.8296 - val_acc: 0.0872\n",
      "Epoch 11/4000\n",
      "15667/15667 [==============================] - 0s 6us/step - loss: 0.4888 - binary_accuracy: 0.8366 - acc: 0.0941 - val_loss: 0.4832 - val_binary_accuracy: 0.8356 - val_acc: 0.0890\n",
      "Epoch 12/4000\n",
      "15667/15667 [==============================] - 0s 5us/step - loss: 0.4734 - binary_accuracy: 0.8424 - acc: 0.1013 - val_loss: 0.4684 - val_binary_accuracy: 0.8405 - val_acc: 0.0955\n",
      "Epoch 13/4000\n",
      "15667/15667 [==============================] - 0s 6us/step - loss: 0.4586 - binary_accuracy: 0.8477 - acc: 0.1016 - val_loss: 0.4541 - val_binary_accuracy: 0.8467 - val_acc: 0.0929\n",
      "Epoch 14/4000\n",
      "15667/15667 [==============================] - 0s 6us/step - loss: 0.4446 - binary_accuracy: 0.8531 - acc: 0.1073 - val_loss: 0.4405 - val_binary_accuracy: 0.8513 - val_acc: 0.1099\n",
      "Epoch 15/4000\n",
      "15667/15667 [==============================] - 0s 6us/step - loss: 0.4313 - binary_accuracy: 0.8583 - acc: 0.1111 - val_loss: 0.4276 - val_binary_accuracy: 0.8571 - val_acc: 0.1146\n",
      "Epoch 16/4000\n",
      "15667/15667 [==============================] - 0s 6us/step - loss: 0.4187 - binary_accuracy: 0.8635 - acc: 0.1132 - val_loss: 0.4153 - val_binary_accuracy: 0.8627 - val_acc: 0.1110\n",
      "Epoch 17/4000\n",
      "15667/15667 [==============================] - 0s 6us/step - loss: 0.4067 - binary_accuracy: 0.8683 - acc: 0.1185 - val_loss: 0.4036 - val_binary_accuracy: 0.8684 - val_acc: 0.1146\n",
      "Epoch 18/4000\n",
      "15667/15667 [==============================] - 0s 6us/step - loss: 0.3953 - binary_accuracy: 0.8733 - acc: 0.1162 - val_loss: 0.3925 - val_binary_accuracy: 0.8734 - val_acc: 0.1248\n",
      "Epoch 19/4000\n",
      "15667/15667 [==============================] - 0s 6us/step - loss: 0.3844 - binary_accuracy: 0.8779 - acc: 0.1240 - val_loss: 0.3820 - val_binary_accuracy: 0.8781 - val_acc: 0.1154\n",
      "Epoch 20/4000\n",
      "15667/15667 [==============================] - 0s 6us/step - loss: 0.3741 - binary_accuracy: 0.8822 - acc: 0.1228 - val_loss: 0.3718 - val_binary_accuracy: 0.8820 - val_acc: 0.1219\n",
      "Epoch 21/4000\n",
      "15667/15667 [==============================] - 0s 5us/step - loss: 0.3642 - binary_accuracy: 0.8866 - acc: 0.1242 - val_loss: 0.3621 - val_binary_accuracy: 0.8860 - val_acc: 0.1230\n",
      "Epoch 22/4000\n",
      "15667/15667 [==============================] - 0s 6us/step - loss: 0.3548 - binary_accuracy: 0.8906 - acc: 0.1268 - val_loss: 0.3528 - val_binary_accuracy: 0.8899 - val_acc: 0.1179\n",
      "Epoch 23/4000\n",
      "15667/15667 [==============================] - 0s 5us/step - loss: 0.3458 - binary_accuracy: 0.8943 - acc: 0.1242 - val_loss: 0.3438 - val_binary_accuracy: 0.8936 - val_acc: 0.1222\n",
      "Epoch 24/4000\n",
      "15667/15667 [==============================] - 0s 5us/step - loss: 0.3372 - binary_accuracy: 0.8977 - acc: 0.1303 - val_loss: 0.3354 - val_binary_accuracy: 0.8966 - val_acc: 0.1161\n",
      "Epoch 25/4000\n",
      "15667/15667 [==============================] - 0s 5us/step - loss: 0.3290 - binary_accuracy: 0.9006 - acc: 0.1281 - val_loss: 0.3273 - val_binary_accuracy: 0.9001 - val_acc: 0.1157\n",
      "Epoch 26/4000\n",
      "15667/15667 [==============================] - 0s 5us/step - loss: 0.3212 - binary_accuracy: 0.9036 - acc: 0.1291 - val_loss: 0.3196 - val_binary_accuracy: 0.9029 - val_acc: 0.1165\n",
      "Epoch 27/4000\n",
      "15667/15667 [==============================] - 0s 6us/step - loss: 0.3138 - binary_accuracy: 0.9062 - acc: 0.1291 - val_loss: 0.3122 - val_binary_accuracy: 0.9060 - val_acc: 0.1146\n",
      "Epoch 28/4000\n",
      "15667/15667 [==============================] - 0s 5us/step - loss: 0.3067 - binary_accuracy: 0.9083 - acc: 0.1303 - val_loss: 0.3052 - val_binary_accuracy: 0.9082 - val_acc: 0.1121\n",
      "Epoch 29/4000\n",
      "  256/15667 [..............................] - ETA: 0s - loss: 0.2985 - binary_accuracy: 0.9087 - acc: 0.1211"
     ]
    },
    {
     "ename": "KeyboardInterrupt",
     "evalue": "",
     "output_type": "error",
     "traceback": [
      "\u001b[0;31m---------------------------------------------------------------------------\u001b[0m",
      "\u001b[0;31mKeyboardInterrupt\u001b[0m                         Traceback (most recent call last)",
      "\u001b[0;32m<ipython-input-67-dfc3898b993c>\u001b[0m in \u001b[0;36m<module>\u001b[0;34m()\u001b[0m\n\u001b[1;32m      4\u001b[0m           \u001b[0mepochs\u001b[0m\u001b[0;34m=\u001b[0m\u001b[0;36m4000\u001b[0m\u001b[0;34m,\u001b[0m\u001b[0;34m\u001b[0m\u001b[0m\n\u001b[1;32m      5\u001b[0m           \u001b[0mbatch_size\u001b[0m\u001b[0;34m=\u001b[0m\u001b[0;36m256\u001b[0m\u001b[0;34m,\u001b[0m\u001b[0;34m\u001b[0m\u001b[0m\n\u001b[0;32m----> 6\u001b[0;31m           \u001b[0mcallbacks\u001b[0m\u001b[0;34m=\u001b[0m\u001b[0;34m[\u001b[0m\u001b[0mhistory\u001b[0m\u001b[0;34m,\u001b[0m \u001b[0mMCP\u001b[0m\u001b[0;34m]\u001b[0m\u001b[0;34m,\u001b[0m\u001b[0;34m\u001b[0m\u001b[0m\n\u001b[0m\u001b[1;32m      7\u001b[0m          )\n",
      "\u001b[0;32m~/.local/lib/python3.6/site-packages/keras/engine/training.py\u001b[0m in \u001b[0;36mfit\u001b[0;34m(self, x, y, batch_size, epochs, verbose, callbacks, validation_split, validation_data, shuffle, class_weight, sample_weight, initial_epoch, steps_per_epoch, validation_steps, **kwargs)\u001b[0m\n\u001b[1;32m   1703\u001b[0m                               \u001b[0minitial_epoch\u001b[0m\u001b[0;34m=\u001b[0m\u001b[0minitial_epoch\u001b[0m\u001b[0;34m,\u001b[0m\u001b[0;34m\u001b[0m\u001b[0m\n\u001b[1;32m   1704\u001b[0m                               \u001b[0msteps_per_epoch\u001b[0m\u001b[0;34m=\u001b[0m\u001b[0msteps_per_epoch\u001b[0m\u001b[0;34m,\u001b[0m\u001b[0;34m\u001b[0m\u001b[0m\n\u001b[0;32m-> 1705\u001b[0;31m                               validation_steps=validation_steps)\n\u001b[0m\u001b[1;32m   1706\u001b[0m \u001b[0;34m\u001b[0m\u001b[0m\n\u001b[1;32m   1707\u001b[0m     def evaluate(self, x=None, y=None,\n",
      "\u001b[0;32m~/.local/lib/python3.6/site-packages/keras/engine/training.py\u001b[0m in \u001b[0;36m_fit_loop\u001b[0;34m(self, f, ins, out_labels, batch_size, epochs, verbose, callbacks, val_f, val_ins, shuffle, callback_metrics, initial_epoch, steps_per_epoch, validation_steps)\u001b[0m\n\u001b[1;32m   1234\u001b[0m                         \u001b[0mins_batch\u001b[0m\u001b[0;34m[\u001b[0m\u001b[0mi\u001b[0m\u001b[0;34m]\u001b[0m \u001b[0;34m=\u001b[0m \u001b[0mins_batch\u001b[0m\u001b[0;34m[\u001b[0m\u001b[0mi\u001b[0m\u001b[0;34m]\u001b[0m\u001b[0;34m.\u001b[0m\u001b[0mtoarray\u001b[0m\u001b[0;34m(\u001b[0m\u001b[0;34m)\u001b[0m\u001b[0;34m\u001b[0m\u001b[0m\n\u001b[1;32m   1235\u001b[0m \u001b[0;34m\u001b[0m\u001b[0m\n\u001b[0;32m-> 1236\u001b[0;31m                     \u001b[0mouts\u001b[0m \u001b[0;34m=\u001b[0m \u001b[0mf\u001b[0m\u001b[0;34m(\u001b[0m\u001b[0mins_batch\u001b[0m\u001b[0;34m)\u001b[0m\u001b[0;34m\u001b[0m\u001b[0m\n\u001b[0m\u001b[1;32m   1237\u001b[0m                     \u001b[0;32mif\u001b[0m \u001b[0;32mnot\u001b[0m \u001b[0misinstance\u001b[0m\u001b[0;34m(\u001b[0m\u001b[0mouts\u001b[0m\u001b[0;34m,\u001b[0m \u001b[0mlist\u001b[0m\u001b[0;34m)\u001b[0m\u001b[0;34m:\u001b[0m\u001b[0;34m\u001b[0m\u001b[0m\n\u001b[1;32m   1238\u001b[0m                         \u001b[0mouts\u001b[0m \u001b[0;34m=\u001b[0m \u001b[0;34m[\u001b[0m\u001b[0mouts\u001b[0m\u001b[0;34m]\u001b[0m\u001b[0;34m\u001b[0m\u001b[0m\n",
      "\u001b[0;32m~/.local/lib/python3.6/site-packages/keras/backend/tensorflow_backend.py\u001b[0m in \u001b[0;36m__call__\u001b[0;34m(self, inputs)\u001b[0m\n\u001b[1;32m   2480\u001b[0m         \u001b[0msession\u001b[0m \u001b[0;34m=\u001b[0m \u001b[0mget_session\u001b[0m\u001b[0;34m(\u001b[0m\u001b[0;34m)\u001b[0m\u001b[0;34m\u001b[0m\u001b[0m\n\u001b[1;32m   2481\u001b[0m         updated = session.run(fetches=fetches, feed_dict=feed_dict,\n\u001b[0;32m-> 2482\u001b[0;31m                               **self.session_kwargs)\n\u001b[0m\u001b[1;32m   2483\u001b[0m         \u001b[0;32mreturn\u001b[0m \u001b[0mupdated\u001b[0m\u001b[0;34m[\u001b[0m\u001b[0;34m:\u001b[0m\u001b[0mlen\u001b[0m\u001b[0;34m(\u001b[0m\u001b[0mself\u001b[0m\u001b[0;34m.\u001b[0m\u001b[0moutputs\u001b[0m\u001b[0;34m)\u001b[0m\u001b[0;34m]\u001b[0m\u001b[0;34m\u001b[0m\u001b[0m\n\u001b[1;32m   2484\u001b[0m \u001b[0;34m\u001b[0m\u001b[0m\n",
      "\u001b[0;32m~/.local/lib/python3.6/site-packages/tensorflow/python/client/session.py\u001b[0m in \u001b[0;36mrun\u001b[0;34m(self, fetches, feed_dict, options, run_metadata)\u001b[0m\n\u001b[1;32m    898\u001b[0m     \u001b[0;32mtry\u001b[0m\u001b[0;34m:\u001b[0m\u001b[0;34m\u001b[0m\u001b[0m\n\u001b[1;32m    899\u001b[0m       result = self._run(None, fetches, feed_dict, options_ptr,\n\u001b[0;32m--> 900\u001b[0;31m                          run_metadata_ptr)\n\u001b[0m\u001b[1;32m    901\u001b[0m       \u001b[0;32mif\u001b[0m \u001b[0mrun_metadata\u001b[0m\u001b[0;34m:\u001b[0m\u001b[0;34m\u001b[0m\u001b[0m\n\u001b[1;32m    902\u001b[0m         \u001b[0mproto_data\u001b[0m \u001b[0;34m=\u001b[0m \u001b[0mtf_session\u001b[0m\u001b[0;34m.\u001b[0m\u001b[0mTF_GetBuffer\u001b[0m\u001b[0;34m(\u001b[0m\u001b[0mrun_metadata_ptr\u001b[0m\u001b[0;34m)\u001b[0m\u001b[0;34m\u001b[0m\u001b[0m\n",
      "\u001b[0;32m~/.local/lib/python3.6/site-packages/tensorflow/python/client/session.py\u001b[0m in \u001b[0;36m_run\u001b[0;34m(self, handle, fetches, feed_dict, options, run_metadata)\u001b[0m\n\u001b[1;32m   1133\u001b[0m     \u001b[0;32mif\u001b[0m \u001b[0mfinal_fetches\u001b[0m \u001b[0;32mor\u001b[0m \u001b[0mfinal_targets\u001b[0m \u001b[0;32mor\u001b[0m \u001b[0;34m(\u001b[0m\u001b[0mhandle\u001b[0m \u001b[0;32mand\u001b[0m \u001b[0mfeed_dict_tensor\u001b[0m\u001b[0;34m)\u001b[0m\u001b[0;34m:\u001b[0m\u001b[0;34m\u001b[0m\u001b[0m\n\u001b[1;32m   1134\u001b[0m       results = self._do_run(handle, final_targets, final_fetches,\n\u001b[0;32m-> 1135\u001b[0;31m                              feed_dict_tensor, options, run_metadata)\n\u001b[0m\u001b[1;32m   1136\u001b[0m     \u001b[0;32melse\u001b[0m\u001b[0;34m:\u001b[0m\u001b[0;34m\u001b[0m\u001b[0m\n\u001b[1;32m   1137\u001b[0m       \u001b[0mresults\u001b[0m \u001b[0;34m=\u001b[0m \u001b[0;34m[\u001b[0m\u001b[0;34m]\u001b[0m\u001b[0;34m\u001b[0m\u001b[0m\n",
      "\u001b[0;32m~/.local/lib/python3.6/site-packages/tensorflow/python/client/session.py\u001b[0m in \u001b[0;36m_do_run\u001b[0;34m(self, handle, target_list, fetch_list, feed_dict, options, run_metadata)\u001b[0m\n\u001b[1;32m   1314\u001b[0m     \u001b[0;32mif\u001b[0m \u001b[0mhandle\u001b[0m \u001b[0;32mis\u001b[0m \u001b[0;32mNone\u001b[0m\u001b[0;34m:\u001b[0m\u001b[0;34m\u001b[0m\u001b[0m\n\u001b[1;32m   1315\u001b[0m       return self._do_call(_run_fn, feeds, fetches, targets, options,\n\u001b[0;32m-> 1316\u001b[0;31m                            run_metadata)\n\u001b[0m\u001b[1;32m   1317\u001b[0m     \u001b[0;32melse\u001b[0m\u001b[0;34m:\u001b[0m\u001b[0;34m\u001b[0m\u001b[0m\n\u001b[1;32m   1318\u001b[0m       \u001b[0;32mreturn\u001b[0m \u001b[0mself\u001b[0m\u001b[0;34m.\u001b[0m\u001b[0m_do_call\u001b[0m\u001b[0;34m(\u001b[0m\u001b[0m_prun_fn\u001b[0m\u001b[0;34m,\u001b[0m \u001b[0mhandle\u001b[0m\u001b[0;34m,\u001b[0m \u001b[0mfeeds\u001b[0m\u001b[0;34m,\u001b[0m \u001b[0mfetches\u001b[0m\u001b[0;34m)\u001b[0m\u001b[0;34m\u001b[0m\u001b[0m\n",
      "\u001b[0;32m~/.local/lib/python3.6/site-packages/tensorflow/python/client/session.py\u001b[0m in \u001b[0;36m_do_call\u001b[0;34m(self, fn, *args)\u001b[0m\n\u001b[1;32m   1320\u001b[0m   \u001b[0;32mdef\u001b[0m \u001b[0m_do_call\u001b[0m\u001b[0;34m(\u001b[0m\u001b[0mself\u001b[0m\u001b[0;34m,\u001b[0m \u001b[0mfn\u001b[0m\u001b[0;34m,\u001b[0m \u001b[0;34m*\u001b[0m\u001b[0margs\u001b[0m\u001b[0;34m)\u001b[0m\u001b[0;34m:\u001b[0m\u001b[0;34m\u001b[0m\u001b[0m\n\u001b[1;32m   1321\u001b[0m     \u001b[0;32mtry\u001b[0m\u001b[0;34m:\u001b[0m\u001b[0;34m\u001b[0m\u001b[0m\n\u001b[0;32m-> 1322\u001b[0;31m       \u001b[0;32mreturn\u001b[0m \u001b[0mfn\u001b[0m\u001b[0;34m(\u001b[0m\u001b[0;34m*\u001b[0m\u001b[0margs\u001b[0m\u001b[0;34m)\u001b[0m\u001b[0;34m\u001b[0m\u001b[0m\n\u001b[0m\u001b[1;32m   1323\u001b[0m     \u001b[0;32mexcept\u001b[0m \u001b[0merrors\u001b[0m\u001b[0;34m.\u001b[0m\u001b[0mOpError\u001b[0m \u001b[0;32mas\u001b[0m \u001b[0me\u001b[0m\u001b[0;34m:\u001b[0m\u001b[0;34m\u001b[0m\u001b[0m\n\u001b[1;32m   1324\u001b[0m       \u001b[0mmessage\u001b[0m \u001b[0;34m=\u001b[0m \u001b[0mcompat\u001b[0m\u001b[0;34m.\u001b[0m\u001b[0mas_text\u001b[0m\u001b[0;34m(\u001b[0m\u001b[0me\u001b[0m\u001b[0;34m.\u001b[0m\u001b[0mmessage\u001b[0m\u001b[0;34m)\u001b[0m\u001b[0;34m\u001b[0m\u001b[0m\n",
      "\u001b[0;32m~/.local/lib/python3.6/site-packages/tensorflow/python/client/session.py\u001b[0m in \u001b[0;36m_run_fn\u001b[0;34m(feed_dict, fetch_list, target_list, options, run_metadata)\u001b[0m\n\u001b[1;32m   1305\u001b[0m       \u001b[0mself\u001b[0m\u001b[0;34m.\u001b[0m\u001b[0m_extend_graph\u001b[0m\u001b[0;34m(\u001b[0m\u001b[0;34m)\u001b[0m\u001b[0;34m\u001b[0m\u001b[0m\n\u001b[1;32m   1306\u001b[0m       return self._call_tf_sessionrun(\n\u001b[0;32m-> 1307\u001b[0;31m           options, feed_dict, fetch_list, target_list, run_metadata)\n\u001b[0m\u001b[1;32m   1308\u001b[0m \u001b[0;34m\u001b[0m\u001b[0m\n\u001b[1;32m   1309\u001b[0m     \u001b[0;32mdef\u001b[0m \u001b[0m_prun_fn\u001b[0m\u001b[0;34m(\u001b[0m\u001b[0mhandle\u001b[0m\u001b[0;34m,\u001b[0m \u001b[0mfeed_dict\u001b[0m\u001b[0;34m,\u001b[0m \u001b[0mfetch_list\u001b[0m\u001b[0;34m)\u001b[0m\u001b[0;34m:\u001b[0m\u001b[0;34m\u001b[0m\u001b[0m\n",
      "\u001b[0;32m~/.local/lib/python3.6/site-packages/tensorflow/python/client/session.py\u001b[0m in \u001b[0;36m_call_tf_sessionrun\u001b[0;34m(self, options, feed_dict, fetch_list, target_list, run_metadata)\u001b[0m\n\u001b[1;32m   1407\u001b[0m       return tf_session.TF_SessionRun_wrapper(\n\u001b[1;32m   1408\u001b[0m           \u001b[0mself\u001b[0m\u001b[0;34m.\u001b[0m\u001b[0m_session\u001b[0m\u001b[0;34m,\u001b[0m \u001b[0moptions\u001b[0m\u001b[0;34m,\u001b[0m \u001b[0mfeed_dict\u001b[0m\u001b[0;34m,\u001b[0m \u001b[0mfetch_list\u001b[0m\u001b[0;34m,\u001b[0m \u001b[0mtarget_list\u001b[0m\u001b[0;34m,\u001b[0m\u001b[0;34m\u001b[0m\u001b[0m\n\u001b[0;32m-> 1409\u001b[0;31m           run_metadata)\n\u001b[0m\u001b[1;32m   1410\u001b[0m     \u001b[0;32melse\u001b[0m\u001b[0;34m:\u001b[0m\u001b[0;34m\u001b[0m\u001b[0m\n\u001b[1;32m   1411\u001b[0m       \u001b[0;32mwith\u001b[0m \u001b[0merrors\u001b[0m\u001b[0;34m.\u001b[0m\u001b[0mraise_exception_on_not_ok_status\u001b[0m\u001b[0;34m(\u001b[0m\u001b[0;34m)\u001b[0m \u001b[0;32mas\u001b[0m \u001b[0mstatus\u001b[0m\u001b[0;34m:\u001b[0m\u001b[0;34m\u001b[0m\u001b[0m\n",
      "\u001b[0;31mKeyboardInterrupt\u001b[0m: "
     ]
    }
   ],
   "source": [
    "model.fit(x=train_data, y=train_labels, \n",
    "          validation_split=0.15,  \n",
    "          shuffle=True, \n",
    "          epochs=4000, \n",
    "          batch_size=256, \n",
    "          callbacks=[history, MCP],\n",
    "         )"
   ]
  },
  {
   "cell_type": "markdown",
   "metadata": {
    "colab_type": "text",
    "id": "VlyPXZiMU1rS"
   },
   "source": [
    "# Check model accuracy"
   ]
  },
  {
   "cell_type": "code",
   "execution_count": 31,
   "metadata": {
    "colab": {
     "autoexec": {
      "startup": false,
      "wait_interval": 0
     }
    },
    "colab_type": "code",
    "id": "c1i0ncKMU1rS"
   },
   "outputs": [
    {
     "name": "stdout",
     "output_type": "stream",
     "text": [
      "CPU times: user 612 ms, sys: 26.2 ms, total: 638 ms\n",
      "Wall time: 487 ms\n"
     ]
    }
   ],
   "source": [
    "%%time\n",
    "y_pred = model.predict(test_data)"
   ]
  },
  {
   "cell_type": "code",
   "execution_count": 32,
   "metadata": {},
   "outputs": [
    {
     "data": {
      "text/plain": [
       "{0: 15102, 1: 1264, 2: 17, 3: 1}"
      ]
     },
     "execution_count": 32,
     "metadata": {},
     "output_type": "execute_result"
    }
   ],
   "source": [
    "get_error_stats(test_labels, y_pred)"
   ]
  },
  {
   "cell_type": "code",
   "execution_count": 33,
   "metadata": {
    "colab": {
     "autoexec": {
      "startup": false,
      "wait_interval": 0
     },
     "base_uri": "https://localhost:8080/",
     "height": 34
    },
    "colab_type": "code",
    "executionInfo": {
     "elapsed": 2172,
     "status": "ok",
     "timestamp": 1523702430537,
     "user": {
      "displayName": "Roman Kravtsov",
      "photoUrl": "https://lh3.googleusercontent.com/a/default-user=s128",
      "userId": "111193078234152704111"
     },
     "user_tz": -180
    },
    "id": "yAH-gGIMU1rg",
    "outputId": "3dd4b6d6-4411-4369-92e6-f8ad13442bd7"
   },
   "outputs": [
    {
     "name": "stdout",
     "output_type": "stream",
     "text": [
      "0.9217529296875\n"
     ]
    }
   ],
   "source": [
    "accuracy = binary_accuracy(test_labels, y_pred)\n",
    "print(accuracy)"
   ]
  },
  {
   "cell_type": "code",
   "execution_count": 34,
   "metadata": {},
   "outputs": [
    {
     "ename": "AttributeError",
     "evalue": "'History' object has no attribute 'history'",
     "output_type": "error",
     "traceback": [
      "\u001b[0;31m---------------------------------------------------------------------------\u001b[0m",
      "\u001b[0;31mAttributeError\u001b[0m                            Traceback (most recent call last)",
      "\u001b[0;32m<ipython-input-34-8031719a1300>\u001b[0m in \u001b[0;36m<module>\u001b[0;34m()\u001b[0m\n\u001b[0;32m----> 1\u001b[0;31m \u001b[0mh\u001b[0m \u001b[0;34m=\u001b[0m \u001b[0mhistory\u001b[0m\u001b[0;34m.\u001b[0m\u001b[0mhistory\u001b[0m\u001b[0;34m\u001b[0m\u001b[0m\n\u001b[0m",
      "\u001b[0;31mAttributeError\u001b[0m: 'History' object has no attribute 'history'"
     ]
    }
   ],
   "source": [
    "h = history.history"
   ]
  },
  {
   "cell_type": "markdown",
   "metadata": {},
   "source": [
    "### Plot and optionally save graphics"
   ]
  },
  {
   "cell_type": "code",
   "execution_count": 43,
   "metadata": {
    "scrolled": true
   },
   "outputs": [
    {
     "data": {
      "image/png": "[encoded data removed]",
      "text/plain": [
       "<Figure size 1440x720 with 1 Axes>"
      ]
     },
     "metadata": {},
     "output_type": "display_data"
    },
    {
     "data": {
      "image/png": "[encoded data removed]",
      "text/plain": [
       "<Figure size 1440x720 with 1 Axes>"
      ]
     },
     "metadata": {},
     "output_type": "display_data"
    },
    {
     "data": {
      "image/png": "[encoded data removed]",
      "text/plain": [
       "<Figure size 1440x720 with 1 Axes>"
      ]
     },
     "metadata": {},
     "output_type": "display_data"
    }
   ],
   "source": [
    "plot_history_fields(history=h, fields=['loss', 'accuracy', 'binary_accuracy'], \n",
    "#                     plot_from=1200, plot_to=2000, \n",
    "                    save=False)"
   ]
  },
  {
   "cell_type": "code",
   "execution_count": null,
   "metadata": {},
   "outputs": [],
   "source": [
    "ac = np.array(h['val_acc'])\n",
    "ac.argmax(), ac.max()"
   ]
  },
  {
   "cell_type": "markdown",
   "metadata": {},
   "source": [
    "# Save data"
   ]
  },
  {
   "cell_type": "code",
   "execution_count": null,
   "metadata": {},
   "outputs": [],
   "source": [
    "np.savetxt(model_directory + 'train_data.csv', train_data, delimiter=';')\n",
    "np.savetxt(model_directory + 'test_data.csv', test_data, delimiter=';')\n",
    "np.savetxt(model_directory + 'train_labels.csv', train_labels, delimiter=';')\n",
    "np.savetxt(model_directory + 'test_labels.csv', test_labels, delimiter=';')"
   ]
  },
  {
   "cell_type": "code",
   "execution_count": null,
   "metadata": {},
   "outputs": [],
   "source": [
    "json.dump(h, open(model_directory + 'history.json', 'w'))"
   ]
  },
  {
   "cell_type": "code",
   "execution_count": 27,
   "metadata": {},
   "outputs": [],
   "source": [
    "file_name = model_directory + 'last_model.hdf5'"
   ]
  },
  {
   "cell_type": "code",
   "execution_count": null,
   "metadata": {},
   "outputs": [],
   "source": [
    "model.save(file_name)"
   ]
  },
  {
   "cell_type": "markdown",
   "metadata": {},
   "source": [
    "### Load data from file"
   ]
  },
  {
   "cell_type": "code",
   "execution_count": 28,
   "metadata": {},
   "outputs": [],
   "source": [
    "file_name = model_directory + 'last_model.hdf5'"
   ]
  },
  {
   "cell_type": "code",
   "execution_count": 29,
   "metadata": {},
   "outputs": [],
   "source": [
    "model = load_model(file_name, custom_objects={'exploss': exploss})"
   ]
  },
  {
   "cell_type": "code",
   "execution_count": 30,
   "metadata": {},
   "outputs": [],
   "source": [
    "with open(model_directory + 'history.json') as f:\n",
    "    h = json.load(f)"
   ]
  },
  {
   "cell_type": "markdown",
   "metadata": {
    "colab_type": "text",
    "id": "LkrHtfD4glIL"
   },
   "source": [
    "0. Сделать датасет поменьше\n",
    "1. Поменять кодирующую матрицу Хэмминга (генерирующую - g.txt) -> Попробовать потренировать\n",
    "2. Прочитать статью Бернштейна и оттуда перенять архитектуру\n"
   ]
  },
  {
   "cell_type": "markdown",
   "metadata": {
    "colab_type": "text",
    "id": "xhXimS4dzb-A"
   },
   "source": [
    "1. смотреть насколько маски ошибки отличаются от предикта\n",
    "2. гиперпараметры (генеративная матрица, количество слоев, что предсказывается)\n",
    "3. напомнить про ЛСТМ\n",
    "4. попробовать GRU\n",
    "5. добавлять 20 ошибо, а не в каждый бит (случайно)\n",
    "6. генерить не первае 2**16, а рандомные слова"
   ]
  }
 ],
 "metadata": {
  "accelerator": "GPU",
  "colab": {
   "collapsed_sections": [],
   "default_view": {},
   "name": "hamming-codes.ipynb",
   "provenance": [],
   "version": "0.3.2",
   "views": {}
  },
  "kernelspec": {
   "display_name": "Python 3",
   "language": "python",
   "name": "python3"
  },
  "language_info": {
   "codemirror_mode": {
    "name": "ipython",
    "version": 3
   },
   "file_extension": ".py",
   "mimetype": "text/x-python",
   "name": "python",
   "nbconvert_exporter": "python",
   "pygments_lexer": "ipython3",
   "version": "3.6.5"
  }
 },
 "nbformat": 4,
 "nbformat_minor": 1
}
