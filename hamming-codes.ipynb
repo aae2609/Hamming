{
 "cells": [
  {
   "cell_type": "markdown",
   "metadata": {},
   "source": [
    "1. 1 слой 26 нейронов (сначала передать туда матрицу декодера, потом инициализировать рандомно) \n",
    "2. 2 слоя по 31 нейрона\n",
    "3. \n",
    "\n",
    "1. бинарный вход перевести в вещественный в [0,1]\n"
   ]
  },
  {
   "cell_type": "code",
   "execution_count": null,
   "metadata": {
    "colab": {
     "autoexec": {
      "startup": false,
      "wait_interval": 0
     },
     "base_uri": "https://localhost:8080/",
     "height": 136,
     "output_extras": [
      {
       "item_id": 5
      }
     ]
    },
    "colab_type": "code",
    "executionInfo": {
     "elapsed": 16335,
     "status": "ok",
     "timestamp": 1520077372397,
     "user": {
      "displayName": "Антон Архипов",
      "photoUrl": "//lh3.googleusercontent.com/-Q8cmDwP37qY/AAAAAAAAAAI/AAAAAAAAACQ/pXXJKjxusBQ/s50-c-k-no/photo.jpg",
      "userId": "115500452992359709286"
     },
     "user_tz": -180
    },
    "id": "jLgugF4GUq62",
    "outputId": "a7d13aa5-8cb1-4221-e872-0d8a5579af13"
   },
   "outputs": [],
   "source": [
    "# !apt-get install -y -qq software-properties-common python-software-properties module-init-tools\n",
    "# !add-apt-repository -y ppa:alessandro-strada/ppa 2>&1 > /dev/null\n",
    "# !apt-get update -qq 2>&1 > /dev/null\n",
    "# !apt-get -y install -qq google-drive-ocamlfuse fuse\n",
    "# from google.colab import auth\n",
    "# auth.authenticate_user()\n",
    "# from oauth2client.client import GoogleCredentials\n",
    "# creds = GoogleCredentials.get_application_default()\n",
    "# import getpass\n",
    "# !google-drive-ocamlfuse -headless -id={creds.client_id} -secret={creds.client_secret} < /dev/null 2>&1 | grep URL\n",
    "# vcode = getpass.getpass()\n",
    "# !echo {vcode} | google-drive-ocamlfuse -headless -id={creds.client_id} -secret={creds.client_secret}"
   ]
  },
  {
   "cell_type": "code",
   "execution_count": null,
   "metadata": {
    "colab": {
     "autoexec": {
      "startup": false,
      "wait_interval": 0
     },
     "base_uri": "https://localhost:8080/",
     "height": 51,
     "output_extras": [
      {
       "item_id": 1
      }
     ]
    },
    "colab_type": "code",
    "executionInfo": {
     "elapsed": 1044,
     "status": "ok",
     "timestamp": 1520077377725,
     "user": {
      "displayName": "Антон Архипов",
      "photoUrl": "//lh3.googleusercontent.com/-Q8cmDwP37qY/AAAAAAAAAAI/AAAAAAAAACQ/pXXJKjxusBQ/s50-c-k-no/photo.jpg",
      "userId": "115500452992359709286"
     },
     "user_tz": -180
    },
    "id": "-Up-zUgBVOr6",
    "outputId": "9a8bd1d5-78a7-42a6-cc4c-2f4098480642"
   },
   "outputs": [],
   "source": [
    "# !mkdir -p drive\n",
    "# !google-drive-ocamlfuse drive"
   ]
  },
  {
   "cell_type": "code",
   "execution_count": null,
   "metadata": {
    "colab": {
     "autoexec": {
      "startup": false,
      "wait_interval": 0
     }
    },
    "colab_type": "code",
    "id": "pAb2ZFhFS2C2"
   },
   "outputs": [],
   "source": [
    "import os \n",
    "import sys\n",
    "import pandas as pd\n",
    "import numpy as np\n",
    "\n",
    "from keras import models\n",
    "from keras.models import Sequential, Model\n",
    "from keras.layers import Input, Dense, Concatenate\n",
    "# from keras.utils import to_categorical\n",
    "from keras.callbacks import ModelCheckpoint\n",
    "\n",
    "\n",
    "from sklearn import model_selection\n",
    "from __future__ import absolute_import\n",
    "\n",
    "# os.chdir(\"/content/drive/Hamming\")\n",
    "# sys.path.append(\"Hamming\")\n",
    "# import functions as f\n",
    "# import model_lib "
   ]
  },
  {
   "cell_type": "code",
   "execution_count": null,
   "metadata": {
    "colab": {
     "autoexec": {
      "startup": false,
      "wait_interval": 0
     },
     "base_uri": "https://localhost:8080/",
     "height": 51,
     "output_extras": [
      {
       "item_id": 1
      }
     ]
    },
    "colab_type": "code",
    "executionInfo": {
     "elapsed": 976,
     "status": "ok",
     "timestamp": 1520077416786,
     "user": {
      "displayName": "Антон Архипов",
      "photoUrl": "//lh3.googleusercontent.com/-Q8cmDwP37qY/AAAAAAAAAAI/AAAAAAAAACQ/pXXJKjxusBQ/s50-c-k-no/photo.jpg",
      "userId": "115500452992359709286"
     },
     "user_tz": -180
    },
    "id": "GLXacC51fWKw",
    "outputId": "0af802ac-64f6-433e-eec8-48a644e8c340"
   },
   "outputs": [],
   "source": [
    "!ls"
   ]
  },
  {
   "cell_type": "code",
   "execution_count": null,
   "metadata": {
    "colab": {
     "autoexec": {
      "startup": false,
      "wait_interval": 0
     }
    },
    "colab_type": "code",
    "id": "RsJUBrPieZ2a"
   },
   "outputs": [],
   "source": [
    "# !git pull"
   ]
  },
  {
   "cell_type": "code",
   "execution_count": null,
   "metadata": {
    "colab": {
     "autoexec": {
      "startup": false,
      "wait_interval": 0
     }
    },
    "colab_type": "code",
    "id": "F_zimhx7Z8wu"
   },
   "outputs": [],
   "source": [
    "TRAIN_PATH = './dataset_files/hamming.txt'  # \"/content/drive/Hamming/dataset_files/hamming.txt\"\n",
    "\n",
    "COLUMN_NAMES = ['id', 'plainword', 'codeword', \n",
    "                'id_error', 'bin_error', 'defective_codeword']"
   ]
  },
  {
   "cell_type": "code",
   "execution_count": null,
   "metadata": {
    "colab": {
     "autoexec": {
      "startup": false,
      "wait_interval": 0
     }
    },
    "colab_type": "code",
    "id": "qOJTCmD_Z-Zz"
   },
   "outputs": [],
   "source": [
    "def hamming_distance(first: str, second: str) -> int:\n",
    "    return len([1 for (x, y) in zip(first, second) if x != y])"
   ]
  },
  {
   "cell_type": "code",
   "execution_count": null,
   "metadata": {
    "colab": {
     "autoexec": {
      "startup": false,
      "wait_interval": 0
     }
    },
    "colab_type": "code",
    "id": "aAYas-44aA_h"
   },
   "outputs": [],
   "source": [
    "def loss_hamming(y, y_pred):  # , w):\n",
    "    return sum(1 for (a,b) in zip(y, y_pred) if y != y_pred) / y.shape[0] # надо ли делить????"
   ]
  },
  {
   "cell_type": "code",
   "execution_count": null,
   "metadata": {
    "colab": {
     "autoexec": {
      "startup": false,
      "wait_interval": 0
     }
    },
    "colab_type": "code",
    "id": "nIyG2tDEaDHn"
   },
   "outputs": [],
   "source": [
    "def load_data():\n",
    "    data = pd.read_csv(TRAIN_PATH, sep=';', names=COLUMN_NAMES)\n",
    "\n",
    "    # make features\n",
    "#     data['dec_defective_codeword'] = data['defective_codeword'][:].apply(lambda x: int(x, 2))\n",
    "#     for j in range(len(data['defective_codeword'][0])):\n",
    "#         data['bin_' + str(j)] = data['defective_codeword'][:].apply(lambda x: int(x[j]))\n",
    "#     data['dec_plainword'] = data['plainword'][:].apply(lambda x: int(x, 2))\n",
    "    return data"
   ]
  },
  {
   "cell_type": "code",
   "execution_count": null,
   "metadata": {
    "colab": {
     "autoexec": {
      "startup": false,
      "wait_interval": 0
     }
    },
    "colab_type": "code",
    "id": "dqSfcsGwDOSF"
   },
   "outputs": [],
   "source": [
    "def make_features():\n",
    "    data['dec_defective_codeword'] = data['defective_codeword'][:].apply(lambda x: int(x, 2))\n",
    "\n",
    "    for j in range(len(data['codeword'][0])):\n",
    "        data['cod_' + str(j)] = data['codeword'][:].apply(lambda x: int(x[j]))\n",
    "\n",
    "    for j in range(len(data['defective_codeword'][0])):\n",
    "        data['def_' + str(j)] = data['defective_codeword'][:].apply(lambda x: int(x[j]))\n",
    "\n",
    "    for j in range(len(data['bin_error'][0])):\n",
    "        data['mask_' + str(j)] = data['bin_error'][:].apply(lambda x: int(x[j]))\n",
    "        \n",
    "    for j in range(len(data['plainword'][0])):\n",
    "        data['pln_' + str(j)] = data['plainword'][:].apply(lambda x: int(x[j]))\n"
   ]
  },
  {
   "cell_type": "code",
   "execution_count": null,
   "metadata": {
    "colab": {
     "autoexec": {
      "startup": false,
      "wait_interval": 0
     }
    },
    "colab_type": "code",
    "id": "MV-N_rg3aHeD"
   },
   "outputs": [],
   "source": [
    "def split_data(test_size):\n",
    "    train_data_defective, test_data_defective, train_labels_defective, test_labels_defective = \\\n",
    "    model_selection.train_test_split(data.loc[:, 'def_0':'def_30'], \n",
    "                                     data.loc[:, 'pln_0':'pln_25'],  # 'mask_0':'pln_25'\n",
    "                                        test_size = test_size)\n",
    "    \n",
    "    train_data_plain, test_data_plain, train_labels_plain, test_labels_plain = \\\n",
    "    model_selection.train_test_split(data.loc[:, 'cod_0':'cod_30'], \n",
    "                                     data.loc[:, 'mask_0':'pln_25'], \n",
    "                                        test_size = test_size)\n",
    "    \n",
    "    train_data = np.vstack((np.array(train_data_defective), np.array(train_data_defective)))\n",
    "    test_data = np.vstack((np.array(test_data_defective), np.array(test_data_defective)))\n",
    "    train_labels = np.vstack((np.array(train_labels_defective), np.array(train_labels_defective)))\n",
    "    test_labels = np.vstack((np.array(test_labels_defective), np.array(test_labels_defective)))\n",
    "    \n",
    "    return train_data, test_data, train_labels, test_labels"
   ]
  },
  {
   "cell_type": "code",
   "execution_count": null,
   "metadata": {
    "colab": {
     "autoexec": {
      "startup": false,
      "wait_interval": 0
     }
    },
    "colab_type": "code",
    "id": "6QQ0swyyhrHK"
   },
   "outputs": [],
   "source": [
    "data = load_data() #pd.read_csv(functions.TRAIN_PATH, sep=';', names = functions.COLUMN_NAMES)"
   ]
  },
  {
   "cell_type": "code",
   "execution_count": null,
   "metadata": {
    "colab": {
     "autoexec": {
      "startup": false,
      "wait_interval": 0
     }
    },
    "colab_type": "code",
    "id": "LIU803RY5yWe"
   },
   "outputs": [],
   "source": [
    "%%time\n",
    "make_features()"
   ]
  },
  {
   "cell_type": "code",
   "execution_count": null,
   "metadata": {
    "colab": {
     "autoexec": {
      "startup": false,
      "wait_interval": 0
     },
     "base_uri": "https://localhost:8080/",
     "height": 253,
     "output_extras": [
      {
       "item_id": 1
      }
     ]
    },
    "colab_type": "code",
    "executionInfo": {
     "elapsed": 748,
     "status": "ok",
     "timestamp": 1520077460673,
     "user": {
      "displayName": "Антон Архипов",
      "photoUrl": "//lh3.googleusercontent.com/-Q8cmDwP37qY/AAAAAAAAAAI/AAAAAAAAACQ/pXXJKjxusBQ/s50-c-k-no/photo.jpg",
      "userId": "115500452992359709286"
     },
     "user_tz": -180
    },
    "id": "tqpQciG7r_Ql",
    "outputId": "875fadba-9b52-4f57-ecdc-f1f2e4aee561"
   },
   "outputs": [],
   "source": [
    "data.head()"
   ]
  },
  {
   "cell_type": "code",
   "execution_count": null,
   "metadata": {
    "colab": {
     "autoexec": {
      "startup": false,
      "wait_interval": 0
     }
    },
    "colab_type": "code",
    "id": "nikwGJe7OP9V"
   },
   "outputs": [],
   "source": [
    "train_data, test_data, train_labels, test_labels = split_data(test_size=0.3)"
   ]
  },
  {
   "cell_type": "code",
   "execution_count": null,
   "metadata": {},
   "outputs": [],
   "source": [
    "decoder = []\n",
    "with open('./dataset_files/h.txt') as f:\n",
    "    decoder = pd.read_csv(f, header=None, names=['h'], dtype=str) #, sep='\\n')\n",
    "for j in range(len(decoder['h'][0])):\n",
    "    decoder['bin_' + str(j)] = decoder['h'][:].apply(lambda x: int(x[j]))\n",
    "decoder = decoder.drop(['h'], axis=1)\n",
    "decoder_np = decoder.as_matrix()\n",
    "print(decoder_np[:6])"
   ]
  },
  {
   "cell_type": "markdown",
   "metadata": {
    "scrolled": true
   },
   "source": [
    "model = Sequential()\n",
    "model.add(Dense(31, input_shape=(31,), \n",
    "#                 weights=decoder_np, \n",
    "                activation='relu', name='d1'))\n",
    "# model.add(Dense(100, activation='relu', name='d2'))\n",
    "# model.add(Dense(31, activation='softmax', name='d3'))\n",
    "model.compile(optimizer='rmsprop',\n",
    "              loss='categorical_crossentropy', # энтропия Шелдона / бинарная\n",
    "              metrics=['accuracy', 'mse'])"
   ]
  },
  {
   "cell_type": "markdown",
   "metadata": {},
   "source": [
    "MCP = ModelCheckpoint('best_model.hd5', save_best_only=True)"
   ]
  },
  {
   "cell_type": "code",
   "execution_count": null,
   "metadata": {},
   "outputs": [],
   "source": [
    "# train_labels_categor = to_categorical(train_labels, num_classes=31)"
   ]
  },
  {
   "cell_type": "markdown",
   "metadata": {
    "scrolled": true
   },
   "source": [
    "model.fit(x=train_data, y=train_labels_categor, validation_split=0.2,  shuffle=True, epochs=100, callbacks=[MCP])"
   ]
  },
  {
   "cell_type": "markdown",
   "metadata": {},
   "source": [
    "LSTM;\n",
    "\n",
    "матринчая нейронная сеть, каждый слой - логические ячейки xor...\n",
    "метрика хэмминга\n",
    "\n",
    "подавать и правильные и неправильные\n"
   ]
  },
  {
   "cell_type": "markdown",
   "metadata": {},
   "source": [
    "поставить керас\n",
    "from keras... import\n",
    "inp = Input(shape=(31,))\n",
    "x = Dense(128, activation='elu')(inp)\n",
    "x = Dense(128, activation='relu')(x)\n",
    "\n",
    "test = Dense(.....)(x)\n",
    "\n",
    "m = Dense(26, activation='пороговая функция типа step которой уже нет 'sigmoid')(x)\n",
    "\n",
    "test = Dense(...)(test)\n",
    "test= Dense(31....)(test)\n",
    "m = Concatinate()([test,m])\n",
    "          \n",
    "model = Model(inp, m, 'm')\n",
    "model.compile() , summary, fit"
   ]
  },
  {
   "cell_type": "markdown",
   "metadata": {},
   "source": [
    "метки = бинарный код ошибки + информационное слово\n",
    "\n",
    "лосс - бинарная кросс энтропия\n",
    "оптимизатор - Адам\n",
    "стартовая точноесть - 1е-5"
   ]
  },
  {
   "cell_type": "code",
   "execution_count": null,
   "metadata": {
    "scrolled": true
   },
   "outputs": [],
   "source": [
    "# from keras.layers import Conv1D, Reshape, Flatten\n",
    "\n",
    "# inp = Input(shape=(31,))\n",
    "# x = Dense(128, activation='relu',  name='d1')(inp)\n",
    "# x = Dense(128, activation='relu',  name='d2')(x)\n",
    "\n",
    "# t = Dense(128, activation='elu', name='t1')(x)\n",
    "# t = Dense(128, activation='relu', name='t2')(t)\n",
    "# t = Dense(31, activation='softmax', name='t3')(t)\n",
    "\n",
    "# m = Dense(26, activation='sigmoid',  name='d3')(x)\n",
    "# m = Concatenate()([t, m])\n",
    "\n",
    "# model = Model(inp, m, 'm')\n",
    "# model.compile(loss='binary_crossentropy', optimizer='Adam')\n",
    "# model.summary()"
   ]
  },
  {
   "cell_type": "code",
   "execution_count": null,
   "metadata": {},
   "outputs": [],
   "source": [
    "from keras.layers import Conv1D, Reshape, Flatten, MaxPooling1D, UpSampling1D\n",
    "from keras.layers.recurrent import LSTM\n",
    "\n",
    "inp = Input(shape=(31,))\n",
    "x = Dense(1024, activation='relu')(inp)\n",
    "x = Dense(1024, activation='relu')(x)\n",
    "x = Dense(1024, activation='elu')(x)\n",
    "x = Dense(1024, activation='relu')(x)\n",
    "x = Dense(1024, activation='relu')(x)\n",
    "\n",
    "m = Dense(26, activation='sigmoid',  name='d3')(x)\n",
    "\n",
    "model = Model(inp, m, 'm')\n",
    "model.compile(loss='binary_crossentropy', optimizer='Adam')\n",
    "model.summary()"
   ]
  },
  {
   "cell_type": "code",
   "execution_count": null,
   "metadata": {},
   "outputs": [],
   "source": [
    "model.fit(x=train_data, y=train_labels, validation_split=0.2,  shuffle=True, epochs=5, batch_size=256)#, callbacks=[MCP])"
   ]
  },
  {
   "cell_type": "markdown",
   "metadata": {},
   "source": [
    "Проверять на сокльки сэмплах совпало значение точно"
   ]
  },
  {
   "cell_type": "code",
   "execution_count": null,
   "metadata": {},
   "outputs": [],
   "source": []
  }
 ],
 "metadata": {
  "accelerator": "GPU",
  "colab": {
   "collapsed_sections": [],
   "default_view": {},
   "name": "hamming-codes.ipynb",
   "provenance": [],
   "toc_visible": true,
   "version": "0.3.2",
   "views": {}
  },
  "kernelspec": {
   "display_name": "Python 3",
   "language": "python",
   "name": "python3"
  },
  "language_info": {
   "codemirror_mode": {
    "name": "ipython",
    "version": 3
   },
   "file_extension": ".py",
   "mimetype": "text/x-python",
   "name": "python",
   "nbconvert_exporter": "python",
   "pygments_lexer": "ipython3",
   "version": "3.6.3"
  }
 },
 "nbformat": 4,
 "nbformat_minor": 1
}
