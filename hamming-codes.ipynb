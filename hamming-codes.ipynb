{
 "cells": [
  {
   "cell_type": "markdown",
   "metadata": {
    "colab_type": "text",
    "id": "jGJWfk2JmmFJ"
   },
   "source": [
    "# ВОПРОСЫ\n",
    "1. Нужно ли предсказывать бит ошибки?\n",
    "2. Предсказываем 30 классов (индексы ошибки)? регрессия или классификация?\n",
    "3. Как сделать лосс?\n",
    "4. \n"
   ]
  },
  {
   "cell_type": "code",
   "execution_count": 1,
   "metadata": {
    "colab": {
     "autoexec": {
      "startup": false,
      "wait_interval": 0
     },
     "base_uri": "https://localhost:8080/",
     "height": 136,
     "output_extras": [
      {
       "item_id": 5
      }
     ]
    },
    "colab_type": "code",
    "executionInfo": {
     "elapsed": 16335,
     "status": "ok",
     "timestamp": 1520077372397,
     "user": {
      "displayName": "Антон Архипов",
      "photoUrl": "//lh3.googleusercontent.com/-Q8cmDwP37qY/AAAAAAAAAAI/AAAAAAAAACQ/pXXJKjxusBQ/s50-c-k-no/photo.jpg",
      "userId": "115500452992359709286"
     },
     "user_tz": -180
    },
    "id": "jLgugF4GUq62",
    "outputId": "a7d13aa5-8cb1-4221-e872-0d8a5579af13"
   },
   "outputs": [],
   "source": [
    "# !apt-get install -y -qq software-properties-common python-software-properties module-init-tools\n",
    "# !add-apt-repository -y ppa:alessandro-strada/ppa 2>&1 > /dev/null\n",
    "# !apt-get update -qq 2>&1 > /dev/null\n",
    "# !apt-get -y install -qq google-drive-ocamlfuse fuse\n",
    "# from google.colab import auth\n",
    "# auth.authenticate_user()\n",
    "# from oauth2client.client import GoogleCredentials\n",
    "# creds = GoogleCredentials.get_application_default()\n",
    "# import getpass\n",
    "# !google-drive-ocamlfuse -headless -id={creds.client_id} -secret={creds.client_secret} < /dev/null 2>&1 | grep URL\n",
    "# vcode = getpass.getpass()\n",
    "# !echo {vcode} | google-drive-ocamlfuse -headless -id={creds.client_id} -secret={creds.client_secret}"
   ]
  },
  {
   "cell_type": "code",
   "execution_count": 2,
   "metadata": {
    "colab": {
     "autoexec": {
      "startup": false,
      "wait_interval": 0
     },
     "base_uri": "https://localhost:8080/",
     "height": 51,
     "output_extras": [
      {
       "item_id": 1
      }
     ]
    },
    "colab_type": "code",
    "executionInfo": {
     "elapsed": 1044,
     "status": "ok",
     "timestamp": 1520077377725,
     "user": {
      "displayName": "Антон Архипов",
      "photoUrl": "//lh3.googleusercontent.com/-Q8cmDwP37qY/AAAAAAAAAAI/AAAAAAAAACQ/pXXJKjxusBQ/s50-c-k-no/photo.jpg",
      "userId": "115500452992359709286"
     },
     "user_tz": -180
    },
    "id": "-Up-zUgBVOr6",
    "outputId": "9a8bd1d5-78a7-42a6-cc4c-2f4098480642"
   },
   "outputs": [],
   "source": [
    "# !mkdir -p drive\n",
    "# !google-drive-ocamlfuse drive"
   ]
  },
  {
   "cell_type": "code",
   "execution_count": 5,
   "metadata": {
    "colab": {
     "autoexec": {
      "startup": false,
      "wait_interval": 0
     }
    },
    "colab_type": "code",
    "id": "pAb2ZFhFS2C2"
   },
   "outputs": [],
   "source": [
    "import os \n",
    "import sys\n",
    "import tensorflow as tf\n",
    "import pandas as pd\n",
    "\n",
    "from tensorflow.python.keras import models\n",
    "from sklearn import model_selection\n",
    "from __future__ import absolute_import\n",
    "\n",
    "# os.chdir(\"/content/drive/Hamming\")\n",
    "# sys.path.append(\"Hamming\")\n",
    "# import functions as f\n",
    "# import model_lib "
   ]
  },
  {
   "cell_type": "code",
   "execution_count": 6,
   "metadata": {
    "colab": {
     "autoexec": {
      "startup": false,
      "wait_interval": 0
     },
     "base_uri": "https://localhost:8080/",
     "height": 34,
     "output_extras": [
      {
       "item_id": 1
      }
     ]
    },
    "colab_type": "code",
    "executionInfo": {
     "elapsed": 1224,
     "status": "ok",
     "timestamp": 1520077413932,
     "user": {
      "displayName": "Антон Архипов",
      "photoUrl": "//lh3.googleusercontent.com/-Q8cmDwP37qY/AAAAAAAAAAI/AAAAAAAAACQ/pXXJKjxusBQ/s50-c-k-no/photo.jpg",
      "userId": "115500452992359709286"
     },
     "user_tz": -180
    },
    "id": "1OkHLkKFU05K",
    "outputId": "a4e2b8e8-aad7-49a5-ec18-6d5663e8d0ef"
   },
   "outputs": [
    {
     "data": {
      "text/plain": [
       "''"
      ]
     },
     "execution_count": 6,
     "metadata": {},
     "output_type": "execute_result"
    }
   ],
   "source": [
    "tf.test.gpu_device_name()"
   ]
  },
  {
   "cell_type": "code",
   "execution_count": 7,
   "metadata": {
    "colab": {
     "autoexec": {
      "startup": false,
      "wait_interval": 0
     },
     "base_uri": "https://localhost:8080/",
     "height": 51,
     "output_extras": [
      {
       "item_id": 1
      }
     ]
    },
    "colab_type": "code",
    "executionInfo": {
     "elapsed": 976,
     "status": "ok",
     "timestamp": 1520077416786,
     "user": {
      "displayName": "Антон Архипов",
      "photoUrl": "//lh3.googleusercontent.com/-Q8cmDwP37qY/AAAAAAAAAAI/AAAAAAAAACQ/pXXJKjxusBQ/s50-c-k-no/photo.jpg",
      "userId": "115500452992359709286"
     },
     "user_tz": -180
    },
    "id": "GLXacC51fWKw",
    "outputId": "0af802ac-64f6-433e-eec8-48a644e8c340"
   },
   "outputs": [
    {
     "name": "stdout",
     "output_type": "stream",
     "text": [
      "dataset_files  functions.py\t    model_lib.py  visualisation.ipynb\r\n",
      "dnn_model      hamming-codes.ipynb  README.md\r\n"
     ]
    }
   ],
   "source": [
    "!ls"
   ]
  },
  {
   "cell_type": "code",
   "execution_count": 8,
   "metadata": {
    "colab": {
     "autoexec": {
      "startup": false,
      "wait_interval": 0
     }
    },
    "colab_type": "code",
    "id": "RsJUBrPieZ2a"
   },
   "outputs": [],
   "source": [
    "# !git pull"
   ]
  },
  {
   "cell_type": "code",
   "execution_count": 9,
   "metadata": {
    "colab": {
     "autoexec": {
      "startup": false,
      "wait_interval": 0
     }
    },
    "colab_type": "code",
    "id": "F_zimhx7Z8wu"
   },
   "outputs": [],
   "source": [
    "TRAIN_PATH = './dataset_files/hamming.txt'  # \"/content/drive/Hamming/dataset_files/hamming.txt\"\n",
    "\n",
    "COLUMN_NAMES = ['id', 'plainword', 'codeword', \n",
    "                'id_error', 'bin_error', 'defective_codeword']"
   ]
  },
  {
   "cell_type": "code",
   "execution_count": 10,
   "metadata": {
    "colab": {
     "autoexec": {
      "startup": false,
      "wait_interval": 0
     }
    },
    "colab_type": "code",
    "id": "qOJTCmD_Z-Zz"
   },
   "outputs": [],
   "source": [
    "def hamming_distance(first: str, second: str) -> int:\n",
    "    return len([1 for (x, y) in zip(first, second) if x != y])"
   ]
  },
  {
   "cell_type": "code",
   "execution_count": 11,
   "metadata": {
    "colab": {
     "autoexec": {
      "startup": false,
      "wait_interval": 0
     }
    },
    "colab_type": "code",
    "id": "aAYas-44aA_h"
   },
   "outputs": [],
   "source": [
    "def loss_hamming(y, y_pred):  # , w):\n",
    "    return sum(1 for (a,b) in zip(y, y_pred) if y != y_pred) / y.shape[0] # надо ли делить????"
   ]
  },
  {
   "cell_type": "code",
   "execution_count": 12,
   "metadata": {
    "colab": {
     "autoexec": {
      "startup": false,
      "wait_interval": 0
     }
    },
    "colab_type": "code",
    "id": "nIyG2tDEaDHn"
   },
   "outputs": [],
   "source": [
    "def load_data():\n",
    "    data = pd.read_csv(TRAIN_PATH, sep=';', names=COLUMN_NAMES)\n",
    "\n",
    "    # make features\n",
    "    data['dec_defective_codeword'] = data['defective_codeword'][:].apply(lambda x: int(x, 2))\n",
    "    for j in range(len(data['defective_codeword'][0])):\n",
    "        data['bin_' + str(j)] = data['defective_codeword'][:].apply(lambda x: int(x[j]))\n",
    "    data['dec_plainword'] = data['plainword'][:].apply(lambda x: int(x, 2))\n",
    "    return data"
   ]
  },
  {
   "cell_type": "code",
   "execution_count": 13,
   "metadata": {
    "colab": {
     "autoexec": {
      "startup": false,
      "wait_interval": 0
     }
    },
    "colab_type": "code",
    "id": "MV-N_rg3aHeD"
   },
   "outputs": [],
   "source": [
    "def split_data(test_size):\n",
    "    train_data, test_data, train_labels, test_labels = \\\n",
    "    model_selection.train_test_split(data.loc[:, 'bin_0':'bin_30'], \n",
    "                                        data['id_error'], \n",
    "                                        test_size = test_size)\n",
    "    return train_data, test_data, train_labels, test_labels"
   ]
  },
  {
   "cell_type": "code",
   "execution_count": 14,
   "metadata": {
    "colab": {
     "autoexec": {
      "startup": false,
      "wait_interval": 0
     }
    },
    "colab_type": "code",
    "id": "6QQ0swyyhrHK"
   },
   "outputs": [],
   "source": [
    "data = load_data() #pd.read_csv(functions.TRAIN_PATH, sep=';', names = functions.COLUMN_NAMES)"
   ]
  },
  {
   "cell_type": "code",
   "execution_count": 15,
   "metadata": {
    "colab": {
     "autoexec": {
      "startup": false,
      "wait_interval": 0
     },
     "base_uri": "https://localhost:8080/",
     "height": 253,
     "output_extras": [
      {
       "item_id": 1
      }
     ]
    },
    "colab_type": "code",
    "executionInfo": {
     "elapsed": 748,
     "status": "ok",
     "timestamp": 1520077460673,
     "user": {
      "displayName": "Антон Архипов",
      "photoUrl": "//lh3.googleusercontent.com/-Q8cmDwP37qY/AAAAAAAAAAI/AAAAAAAAACQ/pXXJKjxusBQ/s50-c-k-no/photo.jpg",
      "userId": "115500452992359709286"
     },
     "user_tz": -180
    },
    "id": "tqpQciG7r_Ql",
    "outputId": "875fadba-9b52-4f57-ecdc-f1f2e4aee561"
   },
   "outputs": [
    {
     "data": {
      "text/html": [
       "<div>\n",
       "<style scoped>\n",
       "    .dataframe tbody tr th:only-of-type {\n",
       "        vertical-align: middle;\n",
       "    }\n",
       "\n",
       "    .dataframe tbody tr th {\n",
       "        vertical-align: top;\n",
       "    }\n",
       "\n",
       "    .dataframe thead th {\n",
       "        text-align: right;\n",
       "    }\n",
       "</style>\n",
       "<table border=\"1\" class=\"dataframe\">\n",
       "  <thead>\n",
       "    <tr style=\"text-align: right;\">\n",
       "      <th></th>\n",
       "      <th>id</th>\n",
       "      <th>plainword</th>\n",
       "      <th>codeword</th>\n",
       "      <th>id_error</th>\n",
       "      <th>bin_error</th>\n",
       "      <th>defective_codeword</th>\n",
       "      <th>dec_defective_codeword</th>\n",
       "      <th>bin_0</th>\n",
       "      <th>bin_1</th>\n",
       "      <th>bin_2</th>\n",
       "      <th>...</th>\n",
       "      <th>bin_22</th>\n",
       "      <th>bin_23</th>\n",
       "      <th>bin_24</th>\n",
       "      <th>bin_25</th>\n",
       "      <th>bin_26</th>\n",
       "      <th>bin_27</th>\n",
       "      <th>bin_28</th>\n",
       "      <th>bin_29</th>\n",
       "      <th>bin_30</th>\n",
       "      <th>dec_plainword</th>\n",
       "    </tr>\n",
       "  </thead>\n",
       "  <tbody>\n",
       "    <tr>\n",
       "      <th>0</th>\n",
       "      <td>0</td>\n",
       "      <td>10110000001111101100000100</td>\n",
       "      <td>0001001100000011111011000001000</td>\n",
       "      <td>8</td>\n",
       "      <td>0000000010000000000000000000000</td>\n",
       "      <td>0001001110000011111011000001000</td>\n",
       "      <td>163706376</td>\n",
       "      <td>0</td>\n",
       "      <td>0</td>\n",
       "      <td>0</td>\n",
       "      <td>...</td>\n",
       "      <td>0</td>\n",
       "      <td>0</td>\n",
       "      <td>0</td>\n",
       "      <td>0</td>\n",
       "      <td>0</td>\n",
       "      <td>1</td>\n",
       "      <td>0</td>\n",
       "      <td>0</td>\n",
       "      <td>0</td>\n",
       "      <td>46201604</td>\n",
       "    </tr>\n",
       "    <tr>\n",
       "      <th>1</th>\n",
       "      <td>1</td>\n",
       "      <td>00101011010000101000111100</td>\n",
       "      <td>1001101010110100001010001111000</td>\n",
       "      <td>17</td>\n",
       "      <td>0000000000000000010000000000000</td>\n",
       "      <td>1001101010110100011010001111000</td>\n",
       "      <td>1297757304</td>\n",
       "      <td>1</td>\n",
       "      <td>0</td>\n",
       "      <td>0</td>\n",
       "      <td>...</td>\n",
       "      <td>0</td>\n",
       "      <td>0</td>\n",
       "      <td>1</td>\n",
       "      <td>1</td>\n",
       "      <td>1</td>\n",
       "      <td>1</td>\n",
       "      <td>0</td>\n",
       "      <td>0</td>\n",
       "      <td>0</td>\n",
       "      <td>11340348</td>\n",
       "    </tr>\n",
       "    <tr>\n",
       "      <th>2</th>\n",
       "      <td>2</td>\n",
       "      <td>10010100110111111111111100</td>\n",
       "      <td>1101100101001101111111111111000</td>\n",
       "      <td>18</td>\n",
       "      <td>0000000000000000001000000000000</td>\n",
       "      <td>1101100101001101110111111111000</td>\n",
       "      <td>1822879736</td>\n",
       "      <td>1</td>\n",
       "      <td>1</td>\n",
       "      <td>0</td>\n",
       "      <td>...</td>\n",
       "      <td>1</td>\n",
       "      <td>1</td>\n",
       "      <td>1</td>\n",
       "      <td>1</td>\n",
       "      <td>1</td>\n",
       "      <td>1</td>\n",
       "      <td>0</td>\n",
       "      <td>0</td>\n",
       "      <td>0</td>\n",
       "      <td>39026684</td>\n",
       "    </tr>\n",
       "    <tr>\n",
       "      <th>3</th>\n",
       "      <td>3</td>\n",
       "      <td>00011000001101000100010111</td>\n",
       "      <td>1011100110000011010001000101110</td>\n",
       "      <td>13</td>\n",
       "      <td>0000000000000100000000000000000</td>\n",
       "      <td>1011100110000111010001000101110</td>\n",
       "      <td>1556324910</td>\n",
       "      <td>1</td>\n",
       "      <td>0</td>\n",
       "      <td>1</td>\n",
       "      <td>...</td>\n",
       "      <td>0</td>\n",
       "      <td>0</td>\n",
       "      <td>0</td>\n",
       "      <td>1</td>\n",
       "      <td>0</td>\n",
       "      <td>1</td>\n",
       "      <td>1</td>\n",
       "      <td>1</td>\n",
       "      <td>0</td>\n",
       "      <td>6344983</td>\n",
       "    </tr>\n",
       "    <tr>\n",
       "      <th>4</th>\n",
       "      <td>4</td>\n",
       "      <td>10011101101000001100111011</td>\n",
       "      <td>0011000111011010000011001110110</td>\n",
       "      <td>19</td>\n",
       "      <td>0000000000000000000100000000000</td>\n",
       "      <td>0011000111011010000111001110110</td>\n",
       "      <td>418188918</td>\n",
       "      <td>0</td>\n",
       "      <td>0</td>\n",
       "      <td>1</td>\n",
       "      <td>...</td>\n",
       "      <td>0</td>\n",
       "      <td>0</td>\n",
       "      <td>1</td>\n",
       "      <td>1</td>\n",
       "      <td>1</td>\n",
       "      <td>0</td>\n",
       "      <td>1</td>\n",
       "      <td>1</td>\n",
       "      <td>0</td>\n",
       "      <td>41321275</td>\n",
       "    </tr>\n",
       "  </tbody>\n",
       "</table>\n",
       "<p>5 rows × 39 columns</p>\n",
       "</div>"
      ],
      "text/plain": [
       "   id                   plainword                         codeword  id_error  \\\n",
       "0   0  10110000001111101100000100  0001001100000011111011000001000         8   \n",
       "1   1  00101011010000101000111100  1001101010110100001010001111000        17   \n",
       "2   2  10010100110111111111111100  1101100101001101111111111111000        18   \n",
       "3   3  00011000001101000100010111  1011100110000011010001000101110        13   \n",
       "4   4  10011101101000001100111011  0011000111011010000011001110110        19   \n",
       "\n",
       "                         bin_error               defective_codeword  \\\n",
       "0  0000000010000000000000000000000  0001001110000011111011000001000   \n",
       "1  0000000000000000010000000000000  1001101010110100011010001111000   \n",
       "2  0000000000000000001000000000000  1101100101001101110111111111000   \n",
       "3  0000000000000100000000000000000  1011100110000111010001000101110   \n",
       "4  0000000000000000000100000000000  0011000111011010000111001110110   \n",
       "\n",
       "   dec_defective_codeword  bin_0  bin_1  bin_2      ...        bin_22  bin_23  \\\n",
       "0               163706376      0      0      0      ...             0       0   \n",
       "1              1297757304      1      0      0      ...             0       0   \n",
       "2              1822879736      1      1      0      ...             1       1   \n",
       "3              1556324910      1      0      1      ...             0       0   \n",
       "4               418188918      0      0      1      ...             0       0   \n",
       "\n",
       "   bin_24  bin_25  bin_26  bin_27  bin_28  bin_29  bin_30  dec_plainword  \n",
       "0       0       0       0       1       0       0       0       46201604  \n",
       "1       1       1       1       1       0       0       0       11340348  \n",
       "2       1       1       1       1       0       0       0       39026684  \n",
       "3       0       1       0       1       1       1       0        6344983  \n",
       "4       1       1       1       0       1       1       0       41321275  \n",
       "\n",
       "[5 rows x 39 columns]"
      ]
     },
     "execution_count": 15,
     "metadata": {},
     "output_type": "execute_result"
    }
   ],
   "source": [
    "data.head()"
   ]
  },
  {
   "cell_type": "code",
   "execution_count": 16,
   "metadata": {
    "colab": {
     "autoexec": {
      "startup": false,
      "wait_interval": 0
     }
    },
    "colab_type": "code",
    "id": "dqSfcsGwDOSF"
   },
   "outputs": [],
   "source": [
    "def make_features():\n",
    "  data['dec_defective_codeword'] = data['defective_codeword'][:].apply(lambda x: int(x, 2))\n",
    "\n",
    "  for j in range(len(data['defective_codeword'][0])):\n",
    "    data['bin_' + str(j)] = data['defective_codeword'][:].apply(lambda x: int(x[j]))\n",
    "  \n",
    "  data['dec_plainword'] = data['plainword'][:].apply(lambda x: int(x, 2))"
   ]
  },
  {
   "cell_type": "code",
   "execution_count": 17,
   "metadata": {
    "colab": {
     "autoexec": {
      "startup": false,
      "wait_interval": 0
     }
    },
    "colab_type": "code",
    "id": "LIU803RY5yWe"
   },
   "outputs": [],
   "source": [
    "make_features()"
   ]
  },
  {
   "cell_type": "code",
   "execution_count": 18,
   "metadata": {
    "colab": {
     "autoexec": {
      "startup": false,
      "wait_interval": 0
     },
     "base_uri": "https://localhost:8080/",
     "height": 253,
     "output_extras": [
      {
       "item_id": 1
      }
     ]
    },
    "colab_type": "code",
    "executionInfo": {
     "elapsed": 633,
     "status": "ok",
     "timestamp": 1520077466871,
     "user": {
      "displayName": "Антон Архипов",
      "photoUrl": "//lh3.googleusercontent.com/-Q8cmDwP37qY/AAAAAAAAAAI/AAAAAAAAACQ/pXXJKjxusBQ/s50-c-k-no/photo.jpg",
      "userId": "115500452992359709286"
     },
     "user_tz": -180
    },
    "id": "151xZU9ii08X",
    "outputId": "2e53861d-ca2e-47b3-e579-f3aa18971124"
   },
   "outputs": [
    {
     "data": {
      "text/html": [
       "<div>\n",
       "<style scoped>\n",
       "    .dataframe tbody tr th:only-of-type {\n",
       "        vertical-align: middle;\n",
       "    }\n",
       "\n",
       "    .dataframe tbody tr th {\n",
       "        vertical-align: top;\n",
       "    }\n",
       "\n",
       "    .dataframe thead th {\n",
       "        text-align: right;\n",
       "    }\n",
       "</style>\n",
       "<table border=\"1\" class=\"dataframe\">\n",
       "  <thead>\n",
       "    <tr style=\"text-align: right;\">\n",
       "      <th></th>\n",
       "      <th>id</th>\n",
       "      <th>plainword</th>\n",
       "      <th>codeword</th>\n",
       "      <th>id_error</th>\n",
       "      <th>bin_error</th>\n",
       "      <th>defective_codeword</th>\n",
       "      <th>dec_defective_codeword</th>\n",
       "      <th>bin_0</th>\n",
       "      <th>bin_1</th>\n",
       "      <th>bin_2</th>\n",
       "      <th>...</th>\n",
       "      <th>bin_22</th>\n",
       "      <th>bin_23</th>\n",
       "      <th>bin_24</th>\n",
       "      <th>bin_25</th>\n",
       "      <th>bin_26</th>\n",
       "      <th>bin_27</th>\n",
       "      <th>bin_28</th>\n",
       "      <th>bin_29</th>\n",
       "      <th>bin_30</th>\n",
       "      <th>dec_plainword</th>\n",
       "    </tr>\n",
       "  </thead>\n",
       "  <tbody>\n",
       "    <tr>\n",
       "      <th>0</th>\n",
       "      <td>0</td>\n",
       "      <td>10110000001111101100000100</td>\n",
       "      <td>0001001100000011111011000001000</td>\n",
       "      <td>8</td>\n",
       "      <td>0000000010000000000000000000000</td>\n",
       "      <td>0001001110000011111011000001000</td>\n",
       "      <td>163706376</td>\n",
       "      <td>0</td>\n",
       "      <td>0</td>\n",
       "      <td>0</td>\n",
       "      <td>...</td>\n",
       "      <td>0</td>\n",
       "      <td>0</td>\n",
       "      <td>0</td>\n",
       "      <td>0</td>\n",
       "      <td>0</td>\n",
       "      <td>1</td>\n",
       "      <td>0</td>\n",
       "      <td>0</td>\n",
       "      <td>0</td>\n",
       "      <td>46201604</td>\n",
       "    </tr>\n",
       "    <tr>\n",
       "      <th>1</th>\n",
       "      <td>1</td>\n",
       "      <td>00101011010000101000111100</td>\n",
       "      <td>1001101010110100001010001111000</td>\n",
       "      <td>17</td>\n",
       "      <td>0000000000000000010000000000000</td>\n",
       "      <td>1001101010110100011010001111000</td>\n",
       "      <td>1297757304</td>\n",
       "      <td>1</td>\n",
       "      <td>0</td>\n",
       "      <td>0</td>\n",
       "      <td>...</td>\n",
       "      <td>0</td>\n",
       "      <td>0</td>\n",
       "      <td>1</td>\n",
       "      <td>1</td>\n",
       "      <td>1</td>\n",
       "      <td>1</td>\n",
       "      <td>0</td>\n",
       "      <td>0</td>\n",
       "      <td>0</td>\n",
       "      <td>11340348</td>\n",
       "    </tr>\n",
       "    <tr>\n",
       "      <th>2</th>\n",
       "      <td>2</td>\n",
       "      <td>10010100110111111111111100</td>\n",
       "      <td>1101100101001101111111111111000</td>\n",
       "      <td>18</td>\n",
       "      <td>0000000000000000001000000000000</td>\n",
       "      <td>1101100101001101110111111111000</td>\n",
       "      <td>1822879736</td>\n",
       "      <td>1</td>\n",
       "      <td>1</td>\n",
       "      <td>0</td>\n",
       "      <td>...</td>\n",
       "      <td>1</td>\n",
       "      <td>1</td>\n",
       "      <td>1</td>\n",
       "      <td>1</td>\n",
       "      <td>1</td>\n",
       "      <td>1</td>\n",
       "      <td>0</td>\n",
       "      <td>0</td>\n",
       "      <td>0</td>\n",
       "      <td>39026684</td>\n",
       "    </tr>\n",
       "    <tr>\n",
       "      <th>3</th>\n",
       "      <td>3</td>\n",
       "      <td>00011000001101000100010111</td>\n",
       "      <td>1011100110000011010001000101110</td>\n",
       "      <td>13</td>\n",
       "      <td>0000000000000100000000000000000</td>\n",
       "      <td>1011100110000111010001000101110</td>\n",
       "      <td>1556324910</td>\n",
       "      <td>1</td>\n",
       "      <td>0</td>\n",
       "      <td>1</td>\n",
       "      <td>...</td>\n",
       "      <td>0</td>\n",
       "      <td>0</td>\n",
       "      <td>0</td>\n",
       "      <td>1</td>\n",
       "      <td>0</td>\n",
       "      <td>1</td>\n",
       "      <td>1</td>\n",
       "      <td>1</td>\n",
       "      <td>0</td>\n",
       "      <td>6344983</td>\n",
       "    </tr>\n",
       "    <tr>\n",
       "      <th>4</th>\n",
       "      <td>4</td>\n",
       "      <td>10011101101000001100111011</td>\n",
       "      <td>0011000111011010000011001110110</td>\n",
       "      <td>19</td>\n",
       "      <td>0000000000000000000100000000000</td>\n",
       "      <td>0011000111011010000111001110110</td>\n",
       "      <td>418188918</td>\n",
       "      <td>0</td>\n",
       "      <td>0</td>\n",
       "      <td>1</td>\n",
       "      <td>...</td>\n",
       "      <td>0</td>\n",
       "      <td>0</td>\n",
       "      <td>1</td>\n",
       "      <td>1</td>\n",
       "      <td>1</td>\n",
       "      <td>0</td>\n",
       "      <td>1</td>\n",
       "      <td>1</td>\n",
       "      <td>0</td>\n",
       "      <td>41321275</td>\n",
       "    </tr>\n",
       "  </tbody>\n",
       "</table>\n",
       "<p>5 rows × 39 columns</p>\n",
       "</div>"
      ],
      "text/plain": [
       "   id                   plainword                         codeword  id_error  \\\n",
       "0   0  10110000001111101100000100  0001001100000011111011000001000         8   \n",
       "1   1  00101011010000101000111100  1001101010110100001010001111000        17   \n",
       "2   2  10010100110111111111111100  1101100101001101111111111111000        18   \n",
       "3   3  00011000001101000100010111  1011100110000011010001000101110        13   \n",
       "4   4  10011101101000001100111011  0011000111011010000011001110110        19   \n",
       "\n",
       "                         bin_error               defective_codeword  \\\n",
       "0  0000000010000000000000000000000  0001001110000011111011000001000   \n",
       "1  0000000000000000010000000000000  1001101010110100011010001111000   \n",
       "2  0000000000000000001000000000000  1101100101001101110111111111000   \n",
       "3  0000000000000100000000000000000  1011100110000111010001000101110   \n",
       "4  0000000000000000000100000000000  0011000111011010000111001110110   \n",
       "\n",
       "   dec_defective_codeword  bin_0  bin_1  bin_2      ...        bin_22  bin_23  \\\n",
       "0               163706376      0      0      0      ...             0       0   \n",
       "1              1297757304      1      0      0      ...             0       0   \n",
       "2              1822879736      1      1      0      ...             1       1   \n",
       "3              1556324910      1      0      1      ...             0       0   \n",
       "4               418188918      0      0      1      ...             0       0   \n",
       "\n",
       "   bin_24  bin_25  bin_26  bin_27  bin_28  bin_29  bin_30  dec_plainword  \n",
       "0       0       0       0       1       0       0       0       46201604  \n",
       "1       1       1       1       1       0       0       0       11340348  \n",
       "2       1       1       1       1       0       0       0       39026684  \n",
       "3       0       1       0       1       1       1       0        6344983  \n",
       "4       1       1       1       0       1       1       0       41321275  \n",
       "\n",
       "[5 rows x 39 columns]"
      ]
     },
     "execution_count": 18,
     "metadata": {},
     "output_type": "execute_result"
    }
   ],
   "source": [
    "data.head()"
   ]
  },
  {
   "cell_type": "code",
   "execution_count": 19,
   "metadata": {
    "colab": {
     "autoexec": {
      "startup": false,
      "wait_interval": 0
     }
    },
    "colab_type": "code",
    "id": "nikwGJe7OP9V"
   },
   "outputs": [],
   "source": [
    "train_data, test_data, train_labels, test_labels = split_data(test_size=0.3)"
   ]
  },
  {
   "cell_type": "code",
   "execution_count": 20,
   "metadata": {
    "colab": {
     "autoexec": {
      "startup": false,
      "wait_interval": 0
     }
    },
    "colab_type": "code",
    "id": "U-Fzly9CQYQe"
   },
   "outputs": [],
   "source": [
    "# Create feature columns for all features.\n",
    "feature_columns = []\n",
    "for key in train_data.keys():\n",
    "    feature_columns.append(tf.feature_column.numeric_column(key=key))"
   ]
  },
  {
   "cell_type": "code",
   "execution_count": 40,
   "metadata": {
    "colab": {
     "autoexec": {
      "startup": false,
      "wait_interval": 0
     },
     "base_uri": "https://localhost:8080/",
     "height": 88,
     "output_extras": [
      {
       "item_id": 1
      }
     ]
    },
    "colab_type": "code",
    "executionInfo": {
     "elapsed": 761,
     "status": "ok",
     "timestamp": 1520077474803,
     "user": {
      "displayName": "Антон Архипов",
      "photoUrl": "//lh3.googleusercontent.com/-Q8cmDwP37qY/AAAAAAAAAAI/AAAAAAAAACQ/pXXJKjxusBQ/s50-c-k-no/photo.jpg",
      "userId": "115500452992359709286"
     },
     "user_tz": -180
    },
    "id": "SLJDJtJHTEhn",
    "outputId": "fada3f2f-08d1-40f0-e2ca-cc053330b7f8"
   },
   "outputs": [
    {
     "name": "stdout",
     "output_type": "stream",
     "text": [
      "INFO:tensorflow:Using default config.\n",
      "WARNING:tensorflow:Using temporary folder as model directory: /tmp/tmp20u51pdk\n",
      "INFO:tensorflow:Using config: {'_model_dir': '/tmp/tmp20u51pdk', '_tf_random_seed': None, '_save_summary_steps': 100, '_save_checkpoints_steps': None, '_save_checkpoints_secs': 600, '_session_config': None, '_keep_checkpoint_max': 5, '_keep_checkpoint_every_n_hours': 10000, '_log_step_count_steps': 100, '_service': None, '_cluster_spec': <tensorflow.python.training.server_lib.ClusterSpec object at 0x7fbb703c6278>, '_task_type': 'worker', '_task_id': 0, '_global_id_in_cluster': 0, '_master': '', '_evaluation_master': '', '_is_chief': True, '_num_ps_replicas': 0, '_num_worker_replicas': 1}\n"
     ]
    }
   ],
   "source": [
    "classifier = tf.estimator.DNNClassifier(\n",
    "    feature_columns=feature_columns,\n",
    "    hidden_units=[100, 100, 100],\n",
    "    n_classes=train_data.shape[1]\n",
    ")"
   ]
  },
  {
   "cell_type": "code",
   "execution_count": 49,
   "metadata": {},
   "outputs": [],
   "source": [
    "train_input_fn = tf.estimator.inputs.pandas_input_fn(x=train_data,\n",
    "                                                    y=train_labels,\n",
    "                                                    num_epochs=3,\n",
    "                                                    batch_size=100,\n",
    "                                                    shuffle=True\n",
    "                                                    )"
   ]
  },
  {
   "cell_type": "code",
   "execution_count": 55,
   "metadata": {},
   "outputs": [],
   "source": [
    "test_input_fn = tf.estimator.inputs.pandas_input_fn(x=test_data,\n",
    "                                                    y=test_labels,\n",
    "                                                    num_epochs=3,\n",
    "                                                    batch_size=100,\n",
    "                                                    shuffle=True\n",
    "                                                    )"
   ]
  },
  {
   "cell_type": "code",
   "execution_count": 58,
   "metadata": {},
   "outputs": [
    {
     "name": "stdout",
     "output_type": "stream",
     "text": [
      "INFO:tensorflow:Calling model_fn.\n",
      "INFO:tensorflow:Done calling model_fn.\n",
      "INFO:tensorflow:Create CheckpointSaverHook.\n",
      "INFO:tensorflow:Graph was finalized.\n",
      "INFO:tensorflow:Restoring parameters from /tmp/tmp20u51pdk/model.ckpt-1377\n",
      "INFO:tensorflow:Running local_init_op.\n",
      "INFO:tensorflow:Done running local_init_op.\n",
      "INFO:tensorflow:Saving checkpoints for 1378 into /tmp/tmp20u51pdk/model.ckpt.\n",
      "INFO:tensorflow:loss = 339.55203, step = 1378\n",
      "INFO:tensorflow:global_step/sec: 152.142\n",
      "INFO:tensorflow:loss = 338.5431, step = 1478 (0.658 sec)\n",
      "INFO:tensorflow:global_step/sec: 176.371\n",
      "INFO:tensorflow:loss = 337.81427, step = 1578 (0.567 sec)\n",
      "INFO:tensorflow:global_step/sec: 183.827\n",
      "INFO:tensorflow:loss = 339.4119, step = 1678 (0.544 sec)\n",
      "INFO:tensorflow:global_step/sec: 206.902\n",
      "INFO:tensorflow:loss = 338.39435, step = 1778 (0.483 sec)\n",
      "INFO:tensorflow:global_step/sec: 178.518\n",
      "INFO:tensorflow:loss = 339.16812, step = 1878 (0.560 sec)\n",
      "INFO:tensorflow:global_step/sec: 175.883\n",
      "INFO:tensorflow:loss = 340.65253, step = 1978 (0.569 sec)\n",
      "INFO:tensorflow:global_step/sec: 193.854\n",
      "INFO:tensorflow:loss = 338.93002, step = 2078 (0.516 sec)\n",
      "INFO:tensorflow:global_step/sec: 185.34\n",
      "INFO:tensorflow:loss = 339.29767, step = 2178 (0.540 sec)\n",
      "INFO:tensorflow:global_step/sec: 173.472\n",
      "INFO:tensorflow:loss = 338.9928, step = 2278 (0.576 sec)\n",
      "INFO:tensorflow:global_step/sec: 185.673\n",
      "INFO:tensorflow:loss = 337.10638, step = 2378 (0.539 sec)\n",
      "INFO:tensorflow:global_step/sec: 161.571\n",
      "INFO:tensorflow:loss = 340.44452, step = 2478 (0.619 sec)\n",
      "INFO:tensorflow:global_step/sec: 162.715\n",
      "INFO:tensorflow:loss = 339.66602, step = 2578 (0.614 sec)\n",
      "INFO:tensorflow:global_step/sec: 176.758\n",
      "INFO:tensorflow:loss = 337.9563, step = 2678 (0.566 sec)\n",
      "INFO:tensorflow:Saving checkpoints for 2754 into /tmp/tmp20u51pdk/model.ckpt.\n",
      "INFO:tensorflow:Loss for final step: 85.480446.\n"
     ]
    },
    {
     "data": {
      "text/plain": [
       "<tensorflow.python.estimator.canned.dnn.DNNClassifier at 0x7fbb703c6518>"
      ]
     },
     "execution_count": 58,
     "metadata": {},
     "output_type": "execute_result"
    }
   ],
   "source": [
    "classifier.train(input_fn=train_input_fn, steps=100000000)"
   ]
  },
  {
   "cell_type": "code",
   "execution_count": 59,
   "metadata": {},
   "outputs": [
    {
     "name": "stdout",
     "output_type": "stream",
     "text": [
      "INFO:tensorflow:Calling model_fn.\n",
      "INFO:tensorflow:Done calling model_fn.\n",
      "INFO:tensorflow:Starting evaluation at 2018-03-04-11:03:18\n",
      "INFO:tensorflow:Graph was finalized.\n",
      "INFO:tensorflow:Restoring parameters from /tmp/tmp20u51pdk/model.ckpt-2754\n",
      "INFO:tensorflow:Running local_init_op.\n",
      "INFO:tensorflow:Done running local_init_op.\n",
      "INFO:tensorflow:Finished evaluation at 2018-03-04-11:03:20\n",
      "INFO:tensorflow:Saving dict for global step 2754: accuracy = 0.031839684, average_loss = 3.4141254, global_step = 2754, loss = 341.31418\n",
      "\n",
      "Test Accuracy: 3.183968%\n",
      "\n"
     ]
    }
   ],
   "source": [
    "accuracy_score = classifier.evaluate(input_fn=test_input_fn)['accuracy']\n",
    "print('\\nTest Accuracy: {0:f}%\\n'.format(accuracy_score*100))"
   ]
  },
  {
   "cell_type": "code",
   "execution_count": null,
   "metadata": {},
   "outputs": [],
   "source": []
  }
 ],
 "metadata": {
  "accelerator": "GPU",
  "colab": {
   "collapsed_sections": [],
   "default_view": {},
   "name": "hamming-codes.ipynb",
   "provenance": [],
   "toc_visible": true,
   "version": "0.3.2",
   "views": {}
  },
  "kernelspec": {
   "display_name": "Python 3",
   "language": "python",
   "name": "python3"
  },
  "language_info": {
   "codemirror_mode": {
    "name": "ipython",
    "version": 3
   },
   "file_extension": ".py",
   "mimetype": "text/x-python",
   "name": "python",
   "nbconvert_exporter": "python",
   "pygments_lexer": "ipython3",
   "version": "3.6.3"
  }
 },
 "nbformat": 4,
 "nbformat_minor": 1
}
